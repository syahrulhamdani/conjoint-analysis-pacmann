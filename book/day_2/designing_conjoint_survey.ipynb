{
 "cells": [
  {
   "cell_type": "markdown",
   "id": "24c3820d-3b59-4389-90d6-7cd378e31046",
   "metadata": {},
   "source": [
    "# Designing a Conjoint Survey\n",
    "\n",
    "Selamat datang di hari kedua pada seri webinar *Conjoint Analysis for Retail Business*.\n",
    "\n",
    "Sebagai ikhtisar, kita akan membahas beberapa topik seputar:\n",
    "* implementasi analisis konjoin\n",
    "* identifikasi atribut dan level\n",
    "* tips melakukan analisis konjoin"
   ]
  },
  {
   "cell_type": "markdown",
   "id": "34d62020-d4ba-419f-ae7d-a2789f6cf95a",
   "metadata": {},
   "source": [
    "## Studi Konjoin\n",
    "\n",
    "Dari beberapap jenis studi konjoin, **rating-based** dan **choice-based** adalah dua pendekatan yang paling sering digunakan. Tergantung pendekatan mana yang dipakai, secara umum, diagram berikut mengilustrasikan langkah-langkah dalam sebuah studi konjoin.\n",
    "\n",
    "```{figure} ../../assets/steps-in-conjoint-study.png\n",
    ":name: steps-in-conjoint-study\n",
    "Langkah-langkah dalam studi konjoin ({cite:t}`applied_conjoint_analysis`).\n",
    "```\n",
    "\n",
    "<!-- TODO: tambahkan identifikasi masalah di diagram -->\n",
    "\n",
    "Berdasarkan diagram di atas, langkah pertama sebelum memulai sebuah studi konjoin tentu saja adalah **menentukan studi konjoin**. Kali ini, kita akan melakukan studi konjoin pada bidang retail, khususnya pada produk mobil.\n",
    "\n",
    "\n",
    "```{warning}\n",
    "Dalam praktiknya, setelah mendefinisikan masalah dan bagaimana hasil dari studi akan digunakan, masalah berikutnya **tidak hanya menentukan atribut-atribut dari sebuah produk**, tapi juga menentukan **bagaimana produk dengan atribut tersebut dapat dijual atau bahkan memotong penjualan produk lama.\n",
    "```\n",
    "\n",
    "### Identifikasi Atribut dan Level\n",
    "\n",
    "Seperti yang disebutkan pada materi hari pertama, pendekatan studi konjoin bertujuan untuk menemukan \"fungsi preferensi\" dari sebuah produk berdasarkan atributnya. Oleh karena itu, identifikasi atribut menjadi **langkah yang paling penting** dalam sebuah studi konjoin.\n",
    "\n",
    "Atribut dari sebuah produk dapat dibagi menjadi 2 jenis:\n",
    "* kategoris\n",
    "\n",
    "    Contoh atribut kategoris seperti nama brand, jenis transmisi pada mobil, dan sejenisnya. Sehingga, level dari atribut ini juga berbentuk kategoris, tapi tidak harus memiliki urutan yang jelas.\n",
    "\n",
    "* kuantitatif\n",
    "\n",
    "    Berbeda dengan atribut kategoris, atribut kuantitatif biasanya berupa sebuah interval atau rasio.\n",
    "\n",
    "````{dropdown} Kategoris vs Kuantitatif\n",
    "Dari gambar berikut ini, coba tentukan mana yang bisa menjadi atribut kategoris dan mana yang kuantitatif?\n",
    "\n",
    "```{image} ../../assets/product-attributes-iphone-attention.png\n",
    ":align: center\n",
    "```\n",
    "````\n",
    "\n",
    "Pada dasarnya, pemilihan atribut dan level sebenarnya lebih ke urusan kreativitas dibanding sains ({cite:t}`applied_conjoint_analysis`). Lalu, darimana kita bisa menentukan atribut-atribut tersebut?\n",
    "\n",
    "* informasi yang dikumpulkan dari survei konsumen yang pernah dilakukan sebelumnya\n",
    "* sumber eksternal seperti [Consumer Insights dari Google](https://www.thinkwithgoogle.com/intl/en-apac/consumer-insights/) atau sejenisnya, yang relevan dengan produk kita\n",
    "* sesi workshop atau brainstorming internal perusahaan\n",
    "* melakukan analisis terhadap _revealed preference data_\n",
    "\n",
    "\n",
    "### Membuat Alternatif Survei dengan Python\n",
    "\n",
    "Misal kita ingin mendesain survei konjoin untuk mobil sport dengan pilihan atribut dan masing-masing level berikut:\n",
    "* `seat`: 2, 4, 5\n",
    "* `convert`: yes, no\n",
    "* `trans`: manual, auto\n",
    "* `segment`: basic, fun, racer\n",
    "* `price`: 30, 40, 50\n",
    "\n",
    "Salah satu caranya adalah dengan membuat semua kombinasi yang mungkin dari masing-masing atribut dan juga level tersebut"
   ]
  },
  {
   "cell_type": "code",
   "execution_count": null,
   "id": "b5570e73-a9e3-4a53-81fe-22e2c28f6f55",
   "metadata": {},
   "outputs": [],
   "source": [
    "import pandas as pd\n",
    "\n",
    "from itertools import product"
   ]
  },
  {
   "cell_type": "code",
   "execution_count": null,
   "id": "d7fc9cb0-9d7a-4521-886f-37ff8a4f3a04",
   "metadata": {},
   "outputs": [],
   "source": [
    "att_seat = [2, 4, 5]\n",
    "att_convert = [\"Yes\", \"No\"]\n",
    "att_trans = [\"manual\", \"auto\"]\n",
    "att_segment = [\"basic\", \"fun\", \"racer\"]\n",
    "att_price = [30, 40, 50]"
   ]
  },
  {
   "cell_type": "code",
   "execution_count": null,
   "id": "205f1214-3bf6-403f-bcd2-f93e30851519",
   "metadata": {},
   "outputs": [],
   "source": [
    "all_combinations = product(att_seat, att_convert, att_trans, att_segment, att_price)\n",
    "\n",
    "attributes = pd.DataFrame(\n",
    "    [combination for combination in all_combinations],\n",
    "    columns=[\"seat\", \"convert\", \"trans\", \"segment\", \"price\"]\n",
    ")"
   ]
  },
  {
   "cell_type": "code",
   "execution_count": null,
   "id": "acea6621-54ea-49e2-9d8a-e28cdc2d9ff2",
   "metadata": {},
   "outputs": [],
   "source": [
    "attributes"
   ]
  },
  {
   "cell_type": "code",
   "execution_count": null,
   "id": "31253b7c-b7e6-4ef0-b067-297f97b742d7",
   "metadata": {},
   "outputs": [],
   "source": [
    "for i in range(100):\n",
    "    display(attributes.sample(3))\n",
    "    break"
   ]
  },
  {
   "cell_type": "code",
   "execution_count": null,
   "id": "41fb2a55-a29a-4a04-b0fc-609863e777e4",
   "metadata": {},
   "outputs": [],
   "source": [
    "surveys = []\n",
    "n_alternatives = 3\n",
    "n_questions = 10\n",
    "\n",
    "for i in range(n_questions):\n",
    "    sample = attributes.sample(n_alternatives)\n",
    "    sample[\"questions\"] = i + 1\n",
    "    sample[\"alt\"] = list(range(1, n_alternatives+1))\n",
    "    surveys.append(sample)\n",
    "\n",
    "df_surveys = pd.concat(surveys).reset_index(drop=True)\n",
    "df_surveys"
   ]
  },
  {
   "cell_type": "markdown",
   "id": "6247940d-8dd1-42a4-9664-7b16ca698868",
   "metadata": {},
   "source": [
    "Metode pembuatan profil seperti di atas disebut juga sebagai **full factorial design**.\n",
    "\n",
    "Metode ini kurang begitu praktis mengingat jumlah profil yang dihasilkan akan semakin membesar dengan semakin banyaknya pilihan atribut dan level masing-masing."
   ]
  },
  {
   "cell_type": "code",
   "execution_count": null,
   "id": "110f10b4-2af8-438e-bd1b-fc4d5980cfef",
   "metadata": {},
   "outputs": [],
   "source": [
    "len(att_seat) * len(att_convert) * len(att_price) * len(att_segment) * len(att_trans)"
   ]
  },
  {
   "cell_type": "markdown",
   "id": "e25ac55e-e257-4c83-aa96-2273eae5d397",
   "metadata": {},
   "source": [
    "Oleh karena itu, daripada memuat semua **108** profil, kita bisa menggunakan pendekatan **fractional factorial design**. Dengan pendekatan ini, kita bisa memiih _fraction_ dari total profil yang mungkin.\n",
    "\n",
    "Misalkan dari 108 profil yang mungkin, kita bisa memilih setengahnya, yaitu 54 untuk dipilih secara \"sistematis\" berdasarkan beberapa faktor seperti cost, kombinasi atribut-level yang masuk akal, durasi interview, dan lainnya.\n",
    "\n",
    "```{admonition} Contoh fractional factorial design\n",
    "Dari 4 atribut beserta level-levelnya:\n",
    "* price: USD 550, USD 700, USD 850\n",
    "* face ID: with face ID, without face ID\n",
    "* battery: 6 hours, 10 hours\n",
    "* bonus storage: \"standard\", \"plus\"\n",
    "\n",
    "jumlah keseluruhan profil yang mungkin dibentuk adalah $3 \\times 2 \\times 2 \\times 2 = 24$. Tapi, kita memutuskan untuk menggunakan 12 profil (setengahnya) dengan urutan acak berikut.\n",
    "```"
   ]
  },
  {
   "cell_type": "code",
   "execution_count": null,
   "id": "f5dd11b1-3bc9-4453-8559-e51f141c446d",
   "metadata": {},
   "outputs": [],
   "source": [
    "att_price = [550, 700, 850]\n",
    "att_faceid = [\"Yes\", \"No\"]\n",
    "att_battery_hours = [6, 10]\n",
    "att_storage = [\"standard\", \"plus\"]\n",
    "\n",
    "all_combinations = product(att_price, att_faceid, att_battery_hours, att_storage)\n",
    "\n",
    "attributes = pd.DataFrame(\n",
    "    [combination for combination in all_combinations],\n",
    "    columns=[\"Price (USD)\", \"Face ID\", \"Battery\", \"Bonus Storage\"]\n",
    ")\n",
    "attributes.sample(12, random_state=1).reset_index(drop=True)"
   ]
  },
  {
   "cell_type": "markdown",
   "id": "1368e6b6-a1a9-473d-a931-758ff73fa1e9",
   "metadata": {},
   "source": [
    "## Conjoint Data Collection\n",
    "\n",
    "Kita bisa mengumpulkan data konjoin dari mana saja, tidak hanya melalui survei langsung. Jika kita sudah mempunyai _base user_ dan data transaksi yang cukup banyak, kita bisa merekrontuksi data tersebut menjadi data konjoin.\n",
    "\n",
    "Misalkan, untuk membuat data konjoin dari sebuah data transaksi di sebuah supermarket dengan cara melihat **apa yang pembeli beli** dan **apa yang tersedia** saat itu.\n",
    "\n",
    "```{figure} ../../assets/groceries-meme.jpg\n",
    ":width: 240px\n",
    ":name: groceries-meme\n",
    "Kemarin kayaknya ada deh? ([ref](https://knowyourmeme.com/photos/1608093-ryan-gosling))\n",
    "```\n",
    "\n",
    "```{note}\n",
    "Data yang direkontruksi dari proses tersebut disebut juga sebagai **_revealed preference data_**.\n",
    "```\n",
    "\n",
    "Akan tetapi, kadang kita tidak bisa menemukan yang kita cari dari data histori transaksi. Terutama, ketika kita mencoba menawarkan fitur baru di produk kita, yang tentu saja belum tersedia (apalagi dibeli).\n",
    "\n",
    "Dalam kasus ini, kita bisa membuat sebuah **survei** kepada calon pembeli untuk membuat **\"pilihan\"**. Data yang dihasilkan dari proses inilah yang dinamakan dengan **_conjoint data_**.\n",
    "\n",
    "```{note}\n",
    "Nama lain dari data yang dihasilkan dari survei tersebut adalah **_stated preference data_**.\n",
    "```\n",
    "\n",
    "```{figure} ../../assets/stated-preference-data.png\n",
    ":name: stated-preference-data\n",
    "Contoh survei kepada konsumen untuk memilih mobil mana yang kiranya akan dipilih atau dibeli ({cite:t}`datacamp_choice_modeling`)\n",
    "```"
   ]
  },
  {
   "cell_type": "markdown",
   "id": "3d426d94-8668-47e9-ba7f-32c540a87e88",
   "metadata": {},
   "source": [
    "### Full Profile\n",
    "\n",
    "Seperti yang sudah disebutkan di materi hari pertama, pada _full-profile_, kita akan menggunakan semua atribut untuk ditampilkan kepada responden. Akan tetapi, jika jumlah atribut (dan level masing-masing) tidak terlalu besar, kita bisa menampilkan semua kombinasi (profil).\n",
    "\n",
    "\n",
    "### Trade-Off Matrix\n",
    "\n",
    "Responden akan diminta untuk menilai alternatif produk dengan kombinasi **2 atribut** sekaligus. Atribut-atribut tersebut akan berubah sedemikian hingga responden akan menilai semua profil dari 2 atribut tersebut. Perhatikan contoh berikut.\n",
    "\n",
    "```{figure} ../../assets/trade-off-matrix-example.png\n",
    ":name: trade-off-matrix-example\n",
    "Contoh hasil survei menggunakan _trade-off matrix_. Responden ini cenderung memilih `Goodyear` yang bertahan hingga 50k mil dan tetap memilih brand yang sama dengan daya tahan yang lebih rendah.\n",
    "```\n",
    "\n",
    "```{warning}\n",
    "Meskipun metode ini sederhana, kita tidak tahu asumsi apa yang dibuat oleh responden untuk atribut-atribut lain yang tidak dimunculkan.\n",
    "```"
   ]
  },
  {
   "cell_type": "markdown",
   "id": "eb9c0e60-749b-4036-b347-e551041f5899",
   "metadata": {},
   "source": [
    "### Contoh _Conjoint Data_\n",
    "\n",
    "bagaimana pun kita mengumpulkan data konjoin, dan tergantung _tool_ yang kita gunakan untuk mengumpulkan data, bentuk data konjoin memiliki format **memanjang** ataupun **melebar**."
   ]
  },
  {
   "cell_type": "code",
   "execution_count": null,
   "id": "f211eb37-aff1-46d4-989b-53d52ae4b7a5",
   "metadata": {},
   "outputs": [],
   "source": [
    "sportscar_long = pd.read_csv(\"../../data/sportscar_choice/sportscar_choice_long.csv\")\n",
    "sportscar_wide = pd.read_csv(\"../../data/sportscar_choice/sportscar_choice_wide.csv\")"
   ]
  },
  {
   "cell_type": "code",
   "execution_count": null,
   "id": "99eedfcd-dd46-4609-9d25-020687a6b28c",
   "metadata": {},
   "outputs": [],
   "source": [
    "sportscar_long"
   ]
  },
  {
   "cell_type": "code",
   "execution_count": null,
   "id": "e255e9c0-7442-4954-82bd-ffa7dd5831e2",
   "metadata": {},
   "outputs": [],
   "source": [
    "sportscar_wide"
   ]
  },
  {
   "cell_type": "markdown",
   "id": "b91c3a93-282c-4804-9779-868d34befb9b",
   "metadata": {},
   "source": [
    "Data dengan format melebar ini biasanya kita temukan jika kita menggunakan tools seperti Google Form atau Qualtrics. Untuk itu, kita perlu merubah data dengan format melebar ini menjadi format memanjang untuk memudahkan kita dalam melakukan eksplorasi dan visualisasi."
   ]
  },
  {
   "cell_type": "code",
   "execution_count": null,
   "id": "58231e08-82c8-4b74-bb0b-155e68f09eb7",
   "metadata": {},
   "outputs": [],
   "source": [
    "sportscar_long"
   ]
  },
  {
   "cell_type": "code",
   "execution_count": null,
   "id": "8c76eb7e-c4f9-4513-90f2-ca9512e33a56",
   "metadata": {},
   "outputs": [],
   "source": [
    "sportscar_wide[\"id\"] = sportscar_wide.index\n",
    "sportscar = pd.wide_to_long(\n",
    "    sportscar_wide,\n",
    "    [\"seat\", \"trans\", \"convert\", \"price\"],\n",
    "    i=\"id\", j=\"alt\", sep=\".\"\n",
    ").reset_index(level=\"alt\")\n",
    "sportscar"
   ]
  },
  {
   "cell_type": "code",
   "execution_count": null,
   "id": "5f262db5-6324-4160-af89-88fd61635711",
   "metadata": {},
   "outputs": [],
   "source": [
    "fields = [\n",
    "    \"resp_id\", \"ques\", \"alt\", \"segment\", \"seat\",\n",
    "    \"trans\", \"convert\", \"price\", \"choice\"\n",
    "]\n",
    "sportscar = sportscar.sort_values([\"resp_id\", \"ques\", \"alt\"])[fields].reset_index(drop=True)\n",
    "sportscar"
   ]
  },
  {
   "cell_type": "code",
   "execution_count": null,
   "id": "088b641c-386a-41d5-84c6-dc0d41a7d0c2",
   "metadata": {},
   "outputs": [],
   "source": [
    "sportscar[\"choice\"] = (sportscar[\"choice\"] == sportscar[\"alt\"]).astype(\"int\")\n",
    "sportscar"
   ]
  },
  {
   "cell_type": "code",
   "execution_count": null,
   "id": "a0c9f91e-c192-41e3-8fe2-47552153ebb2",
   "metadata": {},
   "outputs": [],
   "source": [
    "(sportscar_long == sportscar).sum()"
   ]
  },
  {
   "cell_type": "markdown",
   "id": "2c9eb457-aa84-434e-b92d-1fab645ddcad",
   "metadata": {},
   "source": [
    "## Tips dalam Melakukan Studi Konjoin\n",
    "\n",
    "Perlu diingat bahwa **atribut** merupakan \"dimensi\" produk, seperti harga, warna, ukuran, merk, lokasi, dan lainnya. Kaitannya dengan atribut ({cite:t}`applied_conjoint_analysis`):\n",
    "* Masukkan ke dalam pertanyaan survei, atribut-atribut yang menurut kamu penting bagi konsumen ketika mereka hendak membeli dan/atau atribut lainnya yang ingin kamu pastikan dampaknya. Misalkan, kamu memahami bahwa preferensi konsumen tergantung kepada harga dan ukuran produk, dan kamu ingin memastikan apakah pilihan warna juga penting, maka kamu bisa sertakan ketiga atribut tersebut, yaitu harga, ukuran, dan juga warna\n",
    "* Usahakan **jangan** memasukkan **lebih dari 7 atribut** supaya tidak membuat konsumen semakin bingung terlihat terlalu memaksa.\n",
    "* Secara umum, **harga** menjadi satu atribut yang sulit untuk tidak disertakan, jadi sertakan saja.\n",
    "\n",
    "Selain atribut, kita juga perlu memperhatikan soal **level**. Level merupakan opsi nilai yang mungkin dari sebuah atribut. Misalkan, atribut warna mungkin memiliki 3 level, yaitu merah, kuning, dan hijau.\n",
    "* Pastikan bahwa setidaknya kamu memiliki **minimal 2 level per atribut**.\n",
    "* Level harus **detail**, misalkan level dari atribut resolusi kamera sebuah handphone adalah 46 MP, 50 MP, atau 52 MP. Bukan \"lebih dari 45 MP\" ataupun \"tidak lebih dari 50 MP\".\n",
    "* Pastikan bahwa level setiap atribut **realistis** (tapi **belum perlu _feasible_** di waktu studi dilakukan)\n",
    "* Level-level pada satu atribut harus saling lepas satu sama lain. Misalkan untuk produk _snack_ untuk atribut rasa, hindari nilai seperti \"manis\" dan \"pedas manis\". Sebagai alternatif, kita bisa buat rasa seperti \"caramel\" dan \"spicy\".\n",
    "\n",
    "Selain itu, untuk atribut dan level-nya:\n",
    "* Pastikan untuk menggunakan bahasa atau istilah yang mudah dimengerti oleh konsumen.\n",
    "* Jika kesulitan, **_a picture is worth a thousand words_**."
   ]
  }
 ],
 "metadata": {
  "kernelspec": {
   "display_name": "Python 3 (ipykernel)",
   "language": "python",
   "name": "python3"
  },
  "language_info": {
   "codemirror_mode": {
    "name": "ipython",
    "version": 3
   },
   "file_extension": ".py",
   "mimetype": "text/x-python",
   "name": "python",
   "nbconvert_exporter": "python",
   "pygments_lexer": "ipython3",
   "version": "3.9.16"
  }
 },
 "nbformat": 4,
 "nbformat_minor": 5
}
