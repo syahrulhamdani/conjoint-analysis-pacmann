{
 "cells": [
  {
   "cell_type": "markdown",
   "id": "114618a7-f2f5-4a2c-8ddb-094d40cd46f4",
   "metadata": {},
   "source": [
    "# Model Building, Results, and Interpretation\n",
    "\n",
    "Selamat datang di hari keempat pada seri webinar _Conjoint Analysis for Retail Business_.\n",
    "\n",
    "Sebagai ikhtisar, hari ini kita akan membahas beberapa topik seputar berikut ini:\n",
    "* model untuk _conjoint analysis_\n",
    "* part-worth utilities\n",
    "* willingness-to-pay\n",
    "* shares prediction"
   ]
  },
  {
   "cell_type": "markdown",
   "id": "a0d9f1ea-90ac-45d9-8b24-010a65249347",
   "metadata": {},
   "source": [
    "## Model - Under The Hood\n",
    "\n",
    "```{admonition} Konteks\n",
    "Pembahasan ini menggunakan pemrograman Python dan pustaka-pustakanya.\n",
    "```\n",
    "\n",
    "Mari kita coba lihat sampel data sportscar berikut ini.\n",
    "\n",
    "```{figure} ../../assets/sample-sportscar-model.png\n",
    ":name: sample-sportscar-model\n",
    "Sampel data sportscar dengan 3 alternatif untuk responden 1.\n",
    "```\n",
    "\n",
    "Tujuan dari analisis konjoin adalah untuk mengetahui kontribusi dari masing-masing atribut, yang tersedia dengan berbagai level di masing-masing alternatif di setiap set pertanyaan.\n",
    "\n",
    "Misal kita buat sebuah fungsi untuk setiap masing-masing alternatif tersebut.\n",
    "\n",
    "```{math}\n",
    ":label: utility_alternative\n",
    "\\begin{align}\n",
    "v_1 = alpha \\cdot 4 + beta \\cdot 100 \\\\\n",
    "v_2 = alpha \\cdot 5 + beta \\cdot 150 \\\\\n",
    "v_3 = alpha \\cdot 2 + beta \\cdot 175 \\\\\n",
    "\\end{align}\n",
    "```\n",
    "\n",
    "Dari {eq}`utility_alternative`, karena kita akan melakukan \"estimasi\" terhadap utilitas masing-masing alternatif (dan pada akhirnya setiap atribut), kita sediakan sebuah \"error\" untuk masing-masing fungsi, sehingga diperoleh\n",
    "\n",
    "```{math}\n",
    ":label: utility_functions\n",
    "\\begin{align}\n",
    "u_1 = v_1 + error \\\\\n",
    "u_2 = v_2 + error \\\\\n",
    "u_3 = v_3 + error \\\\\n",
    "\\end{align}\n",
    "```\n",
    "\n",
    "Persamaan di atas disebut dengan **fungsi utilitas**.\n",
    "\n",
    "Ingat bahwa kita **tidak bisa mengetahui dengan pasti** nilai utilitas tersebut. Meski begitu, kita **berasumsi** bahwa **responden akan memilih alternatif dengan nilai utilitas paling besar**.\n",
    "\n",
    "```{math}\n",
    ":label: choice_max\n",
    "choice = max([u_1, u_2, u_3])\n",
    "```\n",
    "\n",
    "Sehingga, persoalan kita sekarang adalah menentukan probabilitas responden memilih masing-masing dari alternatif tersebut. Untuk alasan penyederhanaan, probabilitas tersebut dapat dikalkulasi dengan persamaan berikut, untuk masing-masing alternatif.\n",
    "\n",
    "```{math}\n",
    ":label: prob\n",
    "\\begin{align}\n",
    "p_1 = \\frac{exp(v_1)}{exp(v_1) + exp(v_2) + exp(v_3)} \\\\\n",
    "p_2 = \\frac{exp(v_2)}{exp(v_1) + exp(v_2) + exp(v_3)} \\\\\n",
    "p_3 = \\frac{exp(v_3)}{exp(v_1) + exp(v_2) + exp(v_3)} \\\\\n",
    "\\end{align}\n",
    "```\n",
    "\n",
    "Dari {eq}`prob`, kita bisa melihat bahwa probabilitas responden untuk memilih masing-masing alternatif juga **bergantung** dari utilitas dari alternatif yang lain. Hal ini tentu masuk akal, sebagai contoh mungkin kita akan memilih mobil dengan harga yang terbilang mahal jika alternatif yang lain lebih jelek."
   ]
  },
  {
   "cell_type": "code",
   "execution_count": null,
   "id": "79c8c775-4ce6-4d40-a7f1-72da02ef6551",
   "metadata": {},
   "outputs": [],
   "source": [
    "import matplotlib.pyplot as plt\n",
    "import numpy as np\n",
    "import pandas as pd\n",
    "import seaborn as sns\n",
    "import statsmodels.api as sm\n",
    "import statsmodels.formula.api as smf\n",
    "from patsy import dmatrices\n",
    "from sklearn.preprocessing import OneHotEncoder"
   ]
  },
  {
   "cell_type": "markdown",
   "id": "87f8493d-8727-4215-ad3d-e84dca1dbc33",
   "metadata": {},
   "source": [
    "## Dataset\n",
    "\n",
    "Kali ini, kita akan menggunakan data sportscar _long format_.\n",
    "\n",
    "```{note}\n",
    "Silakan mengunduh data melalui tautan berikut: [🔗](https://drive.google.com/drive/folders/1rfwS32TI0GnChKLkJamBmzwDDvwbEa-I?usp=sharing\n",
    "```"
   ]
  },
  {
   "cell_type": "code",
   "execution_count": null,
   "id": "1bfd6cae-af76-4b23-a9f1-d8b37ac63660",
   "metadata": {},
   "outputs": [],
   "source": [
    "df_sportscar = pd.read_csv(\"../../data/sportscar_choice/sportscar_choice_long.csv\")"
   ]
  },
  {
   "cell_type": "code",
   "execution_count": null,
   "id": "d2537bcb-d546-40cf-ac54-d1eaa54b298f",
   "metadata": {},
   "outputs": [],
   "source": [
    "df_sportscar.info()"
   ]
  },
  {
   "cell_type": "code",
   "execution_count": null,
   "id": "45127c70-7683-41e4-94f0-91a8de9d8c2c",
   "metadata": {},
   "outputs": [],
   "source": [
    "df_sportscar.sample(10, random_state=1)"
   ]
  },
  {
   "cell_type": "code",
   "execution_count": null,
   "id": "fda231a2-1e50-48c4-bc30-09674854a671",
   "metadata": {},
   "outputs": [],
   "source": [
    "def generate_onehot(data, cat_cols=[\"segment\", \"trans\", \"convert\"], encoder=None):\n",
    "    \"\"\"Generate one-hot data with OneHotEncoder for several columns\n",
    "    and the compile them with the rest\"\"\"\n",
    "    if not encoder:\n",
    "        encoder = OneHotEncoder(sparse_output=False)\n",
    "        onehot_data = encoder.fit_transform(data[cat_cols])\n",
    "    else:\n",
    "        onehot_data = encoder.transform(data[cat_cols])\n",
    "    onehot_data = pd.DataFrame(\n",
    "        onehot_data,\n",
    "        columns=encoder.get_feature_names_out()\n",
    "    )\n",
    "\n",
    "    data = pd.concat([data, onehot_data], axis=1)\n",
    "    data.drop(columns=cat_cols, inplace=True)\n",
    "\n",
    "    return data, encoder"
   ]
  },
  {
   "cell_type": "code",
   "execution_count": null,
   "id": "a6af333f-1896-4b9f-974a-774960b4caf1",
   "metadata": {},
   "outputs": [],
   "source": [
    "sportscar, encoder = generate_onehot(df_sportscar)"
   ]
  },
  {
   "cell_type": "code",
   "execution_count": null,
   "id": "44fb4f72-2b5d-4068-aaa6-c19cbc45ce6f",
   "metadata": {},
   "outputs": [],
   "source": [
    "sportscar"
   ]
  },
  {
   "cell_type": "code",
   "execution_count": null,
   "id": "e88906dc-1fad-4eb6-b8f9-ba478e9df5b4",
   "metadata": {},
   "outputs": [],
   "source": [
    "df_sportscar"
   ]
  },
  {
   "cell_type": "markdown",
   "id": "1f7a2a08-1924-4145-9859-d420418f9a4c",
   "metadata": {},
   "source": [
    "## Modeling dengan Python\n",
    "\n",
    "Tergantung bagaimana bentuk pilihan yang diberikan oleh responden, model yang kita gunakan akan berbeda.\n",
    "\n",
    "```{table}\n",
    ":name: response-to-model\n",
    ":align: center\n",
    "\n",
    "| type of response | model |\n",
    "| ------ | ----- |\n",
    "| rating-based | `OLS` |\n",
    "| ranking-based | `OLS` / `MNL` |\n",
    "| choice-based | `MNL` |\n",
    "```"
   ]
  },
  {
   "cell_type": "code",
   "execution_count": null,
   "id": "0233ead0-8bf8-4f75-9985-0008c8ba169f",
   "metadata": {},
   "outputs": [],
   "source": [
    "model = smf.mnlogit(\"choice ~ trans + convert + seat + price\", df_sportscar).fit()"
   ]
  },
  {
   "cell_type": "markdown",
   "id": "d8977657-0679-41b0-b037-008d8438c863",
   "metadata": {},
   "source": [
    "Apa yang dilakukan dengan kode di atas?\n",
    "\n",
    "* `choice ~ trans + convert + seat + price` merupakan persamaan yang menjadi basis dari model **multinomial logit** untuk menentukan masing-masing parameter setiap atribut\n",
    "* karena atribut `trans`, dan juga `convert` adalah atribut kategoris, secara implisit model akan mengubahnya menjadi matriks _one-hot_ seperti berikut ini."
   ]
  },
  {
   "cell_type": "code",
   "execution_count": null,
   "id": "0fc96ded-a2da-4d40-ad84-563e51940610",
   "metadata": {},
   "outputs": [],
   "source": [
    "(dmatrices(\"choice ~ trans + convert + seat + price\", df_sportscar, return_type=\"dataframe\")[1])"
   ]
  },
  {
   "cell_type": "markdown",
   "id": "5285f77b-cdd4-44fc-af18-86b4cf96bf9b",
   "metadata": {},
   "source": [
    "Hasil dari pemodelan di atas adalah sebagai berikut."
   ]
  },
  {
   "cell_type": "code",
   "execution_count": null,
   "id": "59a53744-44c7-4817-875d-e505129ee653",
   "metadata": {},
   "outputs": [],
   "source": [
    "print(model.summary())"
   ]
  },
  {
   "cell_type": "markdown",
   "id": "d296028d-d91e-4423-8101-4c4d727b1633",
   "metadata": {},
   "source": [
    "### Interpretasi Parameter\n",
    "\n",
    "Untuk alasan kesederhanaan dan penjelasan, mari kita buat model sederhana dengan hanya memperhitungkan atribut `seat` dan `price` saja."
   ]
  },
  {
   "cell_type": "code",
   "execution_count": null,
   "id": "b4a1c34f-8749-4cd1-a68d-971677b78bef",
   "metadata": {},
   "outputs": [],
   "source": [
    "simple_model = smf.mnlogit(\"choice ~ seat + price\", df_sportscar).fit()\n",
    "print(simple_model.summary())"
   ]
  },
  {
   "cell_type": "markdown",
   "id": "c3812fc1-7350-4976-b00f-24fcfcede5a8",
   "metadata": {},
   "source": [
    "Dari kolom `coef` di atas, untuk kita menginterpretasikan nilai ini, kita gunakan persamaan {eq}`utility_alternative`.\n",
    "\n",
    "Secara umum, koefisien dari masing-masing atribut tersebut membentuk persamaan:\n",
    "\n",
    "```{math}\n",
    ":name: simple-model-interpretation\n",
    "\n",
    "choice = 0.1241 \\cdot seat + -0.1625 \\cdot price\n",
    "```\n",
    "\n",
    "Variabel **choice** yang dimaksud merujuk pada setiap alternatif yang disajikan. Dengan kata lain, untuk menghitung nilai $v_1$ pada {eq}`utility_alternative`, kita bisa memasukkan nilai `seat` dan `price` pada alternatif $v_1$ tersebut.\n",
    "\n",
    "Tapi, apa maksud dari nilai-nilai tersebut?\n",
    "\n",
    "Berdasarkan nilai tersebut, kita bisa membuat interpretasi bahwa:\n",
    "* nilai positif pada `seat` berarti responden memiliki preferensi lebih ke angka yang besar, alias semakin banyak mobil dapat menampung penumpang, semakin disukai\n",
    "* sebaliknya, nilai negatif pada `price` berarti responden memiliki preferensi lebih ke mobil dengan harga yang lebih murah\n",
    "\n",
    "```{hint}\n",
    "Pada prinsipnya, nilai koefisien yang **lebih dari 1** atau **kurang dari -1** mengindikasikan bahwa atribut tersebut memiliki pengaruh yang \"signifikan\" terhadap preferensi responden. Sebaliknya, semkain dekat nilai koefisien dengan 0, semakin lemah juga tingkat pengaruh atribut terhadap preferensi responden.\n",
    "```\n",
    "\n",
    "Lalu, bagaimana dengan atribut kategoris seperti `convert` atau `trans`? Untuk itu, mari kita lihat pada model sebelumnya."
   ]
  },
  {
   "cell_type": "code",
   "execution_count": null,
   "id": "f68a24d3-3844-424a-9c02-f05dac79f103",
   "metadata": {},
   "outputs": [],
   "source": [
    "model.summary()"
   ]
  },
  {
   "cell_type": "markdown",
   "id": "9de7e0ec-7e78-4345-8642-f629af5850fe",
   "metadata": {},
   "source": [
    "Sebagai _rule of thumb_, untuk atribut yang tidak ditampilkan pada ringkasan di atas, seperti `trans[T.auto]` dan `convert[T.no]`, menandakan bahwa atribut tersebut menjadi basis relatif dari atribut yang ditampilkan. Dengan kata lain, untuk atribut `trans` dan `convert`:\n",
    "* responden lebih memilih mobil dengan `trans = auto` dibandingkan dengan `manual` karena nilainya yang negatif\n",
    "* responden lebih memilih mobil dengan `convert = yes` dibandingkan dengan `no`\n",
    "\n",
    "Selain itu, untuk atribut `seat` dan `price`:\n",
    "* koefisien negatif dari `price` mengindikasikan bahwa responden lebih memilih mobil dengan harga yang lebih murah\n",
    "* sedangkan untuk `seat`, kita bisa menganggap bahwa preferensi responden bertambah senilai koefisien untuk setiap tambahan 1 seat"
   ]
  },
  {
   "cell_type": "markdown",
   "id": "1cbaddee-8f48-4bcd-8b5d-a360ab569e72",
   "metadata": {},
   "source": [
    "### Willingness to Pay\n",
    "\n",
    "Dengan menempatkan harga sebagai atribut pada alternatif produk, kita bisa menghitung **willingness to pay** untuk setiap atribut.\n",
    "\n",
    "```{hint}\n",
    "{cite:t}`applied_conjoint_analysis` menyebutkan bahwa **willingness to pay (WTP)** merupakan jumlah uang yang rela dibayarkan oleh customer untuk sebuah fitur/atribut tertentu.\n",
    "```\n",
    "\n",
    "Untuk menghitung WTP, kita gunakan persamaan berikut.\n",
    "\n",
    "```{math}\n",
    ":name: willingness-to-pay\n",
    "\n",
    "WTP_i = \\frac{feat_i}{-feat_{price}}\n",
    "```\n",
    "\n",
    "Sehingga, untuk model kita di atas, kita bisa menghitung WTP dengan membagi semua negatif dari koefisien atribut harga."
   ]
  },
  {
   "cell_type": "code",
   "execution_count": null,
   "id": "a9d3eb4b-030a-4a10-bf89-8f8622c4f914",
   "metadata": {},
   "outputs": [],
   "source": [
    "model.params"
   ]
  },
  {
   "cell_type": "code",
   "execution_count": null,
   "id": "edc4edc6-b719-444e-bddb-e7f8ef8b9031",
   "metadata": {},
   "outputs": [],
   "source": [
    "model.params / -model.params.loc[\"price\"]"
   ]
  },
  {
   "cell_type": "markdown",
   "id": "e696890d-dd41-421d-a4f4-bc5ea4b98a1e",
   "metadata": {},
   "source": [
    "Dengan mengasumsikan bahwa satuan harga yang digunakan adalah ribuan dolar, WTP untuk masing-masing atribut adalah (selain `price` dan `Intercept`):\n",
    "\n",
    "* untuk `trans[T.manual]`, responden memiliki preferensi setidaknya untuk memilih mobil dengan transmisi manual, harus ada potongan harga sebesar \\$6,462 dari mobil dengan transmisi auto\n",
    "* untuk `convert[T.yes]`, responden meiliki preferensi bahwa nilai yang harus mereka bayar untuk mendapatkan mobil dengan atap yang dapat dibuka bertambah sebesar \\$1,143\n",
    "* untuk `seat`, responden mengindikasikan bahwa setiap tambahan 1 seat pada mobil, wajar untuk menambah biaya sebesar \\$745"
   ]
  },
  {
   "cell_type": "markdown",
   "id": "2b546e77-0394-434e-a2b7-99a5c0ebecde",
   "metadata": {
    "execution": {
     "iopub.execute_input": "2023-07-27T04:45:18.089016Z",
     "iopub.status.busy": "2023-07-27T04:45:18.088582Z",
     "iopub.status.idle": "2023-07-27T04:45:18.623596Z",
     "shell.execute_reply": "2023-07-27T04:45:18.620708Z",
     "shell.execute_reply.started": "2023-07-27T04:45:18.088983Z"
    }
   },
   "source": [
    "### Partworth Utility\n",
    "\n",
    "**Partworth Utility** adalah sebuah angka yang mengukur seberapa besar masing-masing atribut berpengaruh terhadap keputusan responden untuk memilih alternatif ({cite:t}`applied_conjoint_analysis`.\n",
    "\n",
    "Kita bisa menggunakan nilai koefisien pada masing-masing atribut sebagai **partworth utility by level** atau nilai utilitas setiap level di atribut. Untuk menghitung **partworth utility by attribute**, kita perlu melakukan beberapa kalkulasi berikut."
   ]
  },
  {
   "cell_type": "code",
   "execution_count": null,
   "id": "008915b5-2e35-4689-b748-3417061063cf",
   "metadata": {},
   "outputs": [],
   "source": [
    "conjoint_attributes = [\"seat\", \"trans\", \"convert\", \"price\"]"
   ]
  },
  {
   "cell_type": "code",
   "execution_count": null,
   "id": "c0669953-899c-4b51-a59a-1b61f30eb3ad",
   "metadata": {},
   "outputs": [],
   "source": [
    "levels = []\n",
    "partworth = []\n",
    "partworth_range = []\n",
    "\n",
    "for atr in conjoint_attributes:\n",
    "    num_levels = df_sportscar[atr].nunique()\n",
    "    levels.append(df_sportscar[atr].unique().tolist())\n",
    "\n",
    "    new_part_worth = model.params.loc[model.params.index.str.startswith(atr)].values.tolist()[0]\n",
    "    new_part_worth.extend([-1 * sum(new_part_worth)])\n",
    "    partworth_range.append(max(new_part_worth) - min(new_part_worth))\n",
    "    partworth.append(new_part_worth)\n",
    "\n",
    "\n",
    "partworth_attribute = []\n",
    "for part in partworth_range:\n",
    "    partworth_attribute.append(round(100 * (part / sum(partworth_range)), 2))"
   ]
  },
  {
   "cell_type": "code",
   "execution_count": null,
   "id": "e3038696-0a42-497a-a5f7-fd338d9d175a",
   "metadata": {},
   "outputs": [],
   "source": [
    "print(\"Part-worth Utility by Attribute:\", partworth_attribute)"
   ]
  },
  {
   "cell_type": "code",
   "execution_count": null,
   "id": "3d87df46-81b9-4d93-b9a8-63ecb014b757",
   "metadata": {},
   "outputs": [],
   "source": [
    "plt.figure(figsize=(10, 6))\n",
    "sns.barplot(x=conjoint_attributes, y=partworth_attribute)\n",
    "plt.show()"
   ]
  },
  {
   "cell_type": "markdown",
   "id": "3e7ad4c8-173b-4006-a2c3-18aaaa940740",
   "metadata": {},
   "source": [
    "Secara umum, berikut adalah langkah-langkah untuk menghitung parworth utlity untuk masing-masing atribut:\n",
    "1. Hitung **_range_** preferensi dari semua parworth utility level dalam masing-masing atribut, yaitu selisih antara **nilai maksimum** dan **nilai minimum** dari setiap level di suatu atribut.\n",
    "2. Hitung **_importance ratio_** dari setiap atribut dengan cara membagi **_range_** preferensi suatu atribut dengan **jumlah _range_** keseluruhan atribut\n",
    "\n",
    "```{hint}\n",
    "Apa yang bisa kamu simpulkan dari visualisasi part-worth di atas?\n",
    "```"
   ]
  },
  {
   "cell_type": "markdown",
   "id": "05318543-f371-444d-8bc4-bef938c20848",
   "metadata": {},
   "source": [
    "### Predicting Shares\n",
    "\n",
    "Untuk menyampaikan hasil analisis ke _business user_ yang mungkin tidak punya latar belakang teknis akan sedikit rumit. Oleh karena itu, kita bisa menggunakan alternatif prediksi tentang apa yang akan orang-orang pilih jika kita hadapkan dengan beberapa alternatif produk.\n",
    "\n",
    "Misalkan kita ingin membandingkan produk yang mobil yang akan kita luncurkan jika dibandingkan dengan produk kompetitor. Berikut ini adalah fitur-fiturnya."
   ]
  },
  {
   "cell_type": "code",
   "execution_count": null,
   "id": "dbb1f9b6-8fc0-4b96-9db6-3355c1ea869d",
   "metadata": {},
   "outputs": [],
   "source": [
    "new_market = pd.DataFrame({\n",
    "    \"seat\": [2, 2],\n",
    "    \"trans\": [\"manual\", \"auto\"],\n",
    "    \"convert\": [\"no\", \"no\"],\n",
    "    \"price\": [35, 30]\n",
    "})\n",
    "new_market"
   ]
  },
  {
   "cell_type": "markdown",
   "id": "9586e666-b58d-459b-a87d-e2c70f86e32a",
   "metadata": {},
   "source": [
    "Misalkan saja baris pertama adalah **produk yang akan kita luncurkan** dan baris kedua adalah **produk yang diluncurkan kompetitor**."
   ]
  },
  {
   "cell_type": "code",
   "execution_count": null,
   "id": "ce635da2-108f-4f22-b1ef-41c307f4faa2",
   "metadata": {},
   "outputs": [],
   "source": [
    "shares = model.predict(new_market)[1]\n",
    "shares.index = [\"Our Sportscar\", \"Competitor 1\"]\n",
    "\n",
    "sns.barplot(x=shares, y=shares.index, orient=\"h\", order=[\"Competitor 1\", \"Our Sportscar\"])\n",
    "plt.show()"
   ]
  },
  {
   "cell_type": "code",
   "execution_count": null,
   "id": "f9a34169-9fc9-4d23-b6c4-b2ed0eb443b5",
   "metadata": {},
   "outputs": [],
   "source": [
    "new_market = pd.DataFrame({\n",
    "    \"seat\": [3, 3],\n",
    "    \"trans\": [\"auto\", \"auto\"],\n",
    "    \"convert\": [\"no\", \"no\"],\n",
    "    \"price\": [50, 30]\n",
    "})\n",
    "new_market.index = [\"Our Sportscar\", \"Competitor\"]\n",
    "new_market"
   ]
  },
  {
   "cell_type": "code",
   "execution_count": null,
   "id": "d3309064-5961-4bca-bb30-fe025d467e6a",
   "metadata": {},
   "outputs": [],
   "source": [
    "shares = model.predict(new_market)[1]\n",
    "shares"
   ]
  },
  {
   "cell_type": "code",
   "execution_count": null,
   "id": "61fcad31-c76a-4294-956d-58d61d04ae07",
   "metadata": {},
   "outputs": [],
   "source": [
    "sns.barplot(x=shares, y=shares.index, orient=\"h\")\n",
    "plt.show()"
   ]
  }
 ],
 "metadata": {
  "kernelspec": {
   "display_name": "Python 3 (ipykernel)",
   "language": "python",
   "name": "python3"
  },
  "language_info": {
   "codemirror_mode": {
    "name": "ipython",
    "version": 3
   },
   "file_extension": ".py",
   "mimetype": "text/x-python",
   "name": "python",
   "nbconvert_exporter": "python",
   "pygments_lexer": "ipython3",
   "version": "3.9.16"
  }
 },
 "nbformat": 4,
 "nbformat_minor": 5
}
