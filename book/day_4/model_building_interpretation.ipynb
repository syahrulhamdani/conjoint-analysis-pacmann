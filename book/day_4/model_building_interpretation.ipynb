{
 "cells": [
  {
   "cell_type": "markdown",
   "id": "114618a7-f2f5-4a2c-8ddb-094d40cd46f4",
   "metadata": {},
   "source": [
    "# Model Building, Results, and Interpretation\n",
    "\n",
    "Selamat datang di hari keempat pada seri webinar _Conjoint Analysis for Retail Business_.\n",
    "\n",
    "Sebagai ikhtisar, hari ini kita akan membahas beberapa topik seputar berikut ini:\n",
    "* model untuk _conjoint analysis_\n",
    "* part-worth utilities\n",
    "* willingness-to-pay\n",
    "* shares prediction"
   ]
  },
  {
   "cell_type": "markdown",
   "id": "a0d9f1ea-90ac-45d9-8b24-010a65249347",
   "metadata": {},
   "source": [
    "## Model - Under The Hood\n",
    "\n",
    "```{admonition} Konteks\n",
    "Pembahasan ini menggunakan pemrograman Python dan pustaka-pustakanya.\n",
    "```\n",
    "\n",
    "Mari kita coba lihat sampel data sportscar berikut ini.\n",
    "\n",
    "```{figure} ../../assets/sample-sportscar-model.png\n",
    ":name: sample-sportscar-model\n",
    "Sampel data sportscar dengan 3 alternatif untuk responden 1.\n",
    "```\n",
    "\n",
    "Tujuan dari analisis konjoin adalah untuk mengetahui kontribusi dari masing-masing atribut, yang tersedia dengan berbagai level di masing-masing alternatif di setiap set pertanyaan.\n",
    "\n",
    "Misal kita buat sebuah fungsi untuk setiap masing-masing alternatif tersebut.\n",
    "\n",
    "```{math}\n",
    ":label: utility_alternative\n",
    "\\begin{align}\n",
    "v_1 = alpha \\cdot 4 + beta \\cdot 100 \\\\\n",
    "v_2 = alpha \\cdot 5 + beta \\cdot 150 \\\\\n",
    "v_3 = alpha \\cdot 2 + beta \\cdot 175 \\\\\n",
    "\\end{align}\n",
    "```\n",
    "\n",
    "Dari {eq}`utility_alternative`, karena kita akan melakukan \"estimasi\" terhadap utilitas masing-masing alternatif (dan pada akhirnya setiap atribut), kita sediakan sebuah \"error\" untuk masing-masing fungsi, sehingga diperoleh\n",
    "\n",
    "```{math}\n",
    ":label: utility_functions\n",
    "\\begin{align}\n",
    "u_1 = v_1 + error \\\\\n",
    "u_2 = v_2 + error \\\\\n",
    "u_3 = v_3 + error \\\\\n",
    "\\end{align}\n",
    "```\n",
    "\n",
    "Persamaan di atas disebut dengan **fungsi utilitas**.\n",
    "\n",
    "Ingat bahwa kita **tidak bisa mengetahui dengan pasti** nilai utilitas tersebut. Meski begitu, kita **berasumsi** bahwa **responden akan memilih alternatif dengan nilai utilitas paling besar**.\n",
    "\n",
    "```{math}\n",
    ":label: choice_max\n",
    "choice = max([u_1, u_2, u_3])\n",
    "```\n",
    "\n",
    "Sehingga, persoalan kita sekarang adalah menentukan probabilitas responden memilih masing-masing dari alternatif tersebut. Untuk alasan penyederhanaan, probabilitas tersebut dapat dikalkulasi dengan persamaan berikut, untuk masing-masing alternatif.\n",
    "\n",
    "```{math}\n",
    ":label: prob\n",
    "\\begin{align}\n",
    "p_1 = \\frac{exp(v_1)}{exp(v_1) + exp(v_2) + exp(v_3)} \\\\\n",
    "p_2 = \\frac{exp(v_2)}{exp(v_1) + exp(v_2) + exp(v_3)} \\\\\n",
    "p_3 = \\frac{exp(v_3)}{exp(v_1) + exp(v_2) + exp(v_3)} \\\\\n",
    "\\end{align}\n",
    "```\n",
    "\n",
    "Dari {eq}`prob`, kita bisa melihat bahwa probabilitas responden untuk memilih masing-masing alternatif juga **bergantung** dari utilitas dari alternatif yang lain. Hal ini tentu masuk akal, sebagai contoh mungkin kita akan memilih mobil dengan harga yang terbilang mahal jika alternatif yang lain lebih jelek."
   ]
  },
  {
   "cell_type": "code",
   "execution_count": 1,
   "id": "79c8c775-4ce6-4d40-a7f1-72da02ef6551",
   "metadata": {
    "execution": {
     "iopub.execute_input": "2023-07-27T07:32:25.376729Z",
     "iopub.status.busy": "2023-07-27T07:32:25.375792Z",
     "iopub.status.idle": "2023-07-27T07:32:29.492284Z",
     "shell.execute_reply": "2023-07-27T07:32:29.491206Z",
     "shell.execute_reply.started": "2023-07-27T07:32:25.376690Z"
    }
   },
   "outputs": [],
   "source": [
    "import matplotlib.pyplot as plt\n",
    "import numpy as np\n",
    "import pandas as pd\n",
    "import seaborn as sns\n",
    "import statsmodels.api as sm\n",
    "import statsmodels.formula.api as smf\n",
    "from patsy import dmatrices\n",
    "from sklearn.preprocessing import OneHotEncoder"
   ]
  },
  {
   "cell_type": "markdown",
   "id": "87f8493d-8727-4215-ad3d-e84dca1dbc33",
   "metadata": {},
   "source": [
    "## Dataset\n",
    "\n",
    "Kali ini, kita akan menggunakan data sportscar _long format_.\n",
    "\n",
    "```{note}\n",
    "Silakan mengunduh data melalui tautan berikut: [🔗](https://drive.google.com/drive/folders/1rfwS32TI0GnChKLkJamBmzwDDvwbEa-I?usp=sharing\n",
    "```"
   ]
  },
  {
   "cell_type": "code",
   "execution_count": 2,
   "id": "1bfd6cae-af76-4b23-a9f1-d8b37ac63660",
   "metadata": {
    "execution": {
     "iopub.execute_input": "2023-07-27T07:32:29.496568Z",
     "iopub.status.busy": "2023-07-27T07:32:29.495878Z",
     "iopub.status.idle": "2023-07-27T07:32:29.514032Z",
     "shell.execute_reply": "2023-07-27T07:32:29.513219Z",
     "shell.execute_reply.started": "2023-07-27T07:32:29.496531Z"
    }
   },
   "outputs": [],
   "source": [
    "df_sportscar = pd.read_csv(\"../../data/sportscar_choice/sportscar_choice_long.csv\")"
   ]
  },
  {
   "cell_type": "code",
   "execution_count": 3,
   "id": "d2537bcb-d546-40cf-ac54-d1eaa54b298f",
   "metadata": {
    "execution": {
     "iopub.execute_input": "2023-07-27T07:32:29.516240Z",
     "iopub.status.busy": "2023-07-27T07:32:29.515542Z",
     "iopub.status.idle": "2023-07-27T07:32:29.540483Z",
     "shell.execute_reply": "2023-07-27T07:32:29.538934Z",
     "shell.execute_reply.started": "2023-07-27T07:32:29.516207Z"
    }
   },
   "outputs": [
    {
     "name": "stdout",
     "output_type": "stream",
     "text": [
      "<class 'pandas.core.frame.DataFrame'>\n",
      "RangeIndex: 6000 entries, 0 to 5999\n",
      "Data columns (total 9 columns):\n",
      " #   Column   Non-Null Count  Dtype \n",
      "---  ------   --------------  ----- \n",
      " 0   resp_id  6000 non-null   int64 \n",
      " 1   ques     6000 non-null   int64 \n",
      " 2   alt      6000 non-null   int64 \n",
      " 3   segment  6000 non-null   object\n",
      " 4   seat     6000 non-null   int64 \n",
      " 5   trans    6000 non-null   object\n",
      " 6   convert  6000 non-null   object\n",
      " 7   price    6000 non-null   int64 \n",
      " 8   choice   6000 non-null   int64 \n",
      "dtypes: int64(6), object(3)\n",
      "memory usage: 422.0+ KB\n"
     ]
    }
   ],
   "source": [
    "df_sportscar.info()"
   ]
  },
  {
   "cell_type": "code",
   "execution_count": 4,
   "id": "45127c70-7683-41e4-94f0-91a8de9d8c2c",
   "metadata": {
    "execution": {
     "iopub.execute_input": "2023-07-27T07:32:29.546002Z",
     "iopub.status.busy": "2023-07-27T07:32:29.544259Z",
     "iopub.status.idle": "2023-07-27T07:32:29.595185Z",
     "shell.execute_reply": "2023-07-27T07:32:29.592646Z",
     "shell.execute_reply.started": "2023-07-27T07:32:29.545918Z"
    }
   },
   "outputs": [
    {
     "data": {
      "text/html": [
       "<div>\n",
       "<style scoped>\n",
       "    .dataframe tbody tr th:only-of-type {\n",
       "        vertical-align: middle;\n",
       "    }\n",
       "\n",
       "    .dataframe tbody tr th {\n",
       "        vertical-align: top;\n",
       "    }\n",
       "\n",
       "    .dataframe thead th {\n",
       "        text-align: right;\n",
       "    }\n",
       "</style>\n",
       "<table border=\"1\" class=\"dataframe\">\n",
       "  <thead>\n",
       "    <tr style=\"text-align: right;\">\n",
       "      <th></th>\n",
       "      <th>resp_id</th>\n",
       "      <th>ques</th>\n",
       "      <th>alt</th>\n",
       "      <th>segment</th>\n",
       "      <th>seat</th>\n",
       "      <th>trans</th>\n",
       "      <th>convert</th>\n",
       "      <th>price</th>\n",
       "      <th>choice</th>\n",
       "    </tr>\n",
       "  </thead>\n",
       "  <tbody>\n",
       "    <tr>\n",
       "      <th>1483</th>\n",
       "      <td>50</td>\n",
       "      <td>5</td>\n",
       "      <td>2</td>\n",
       "      <td>fun</td>\n",
       "      <td>2</td>\n",
       "      <td>manual</td>\n",
       "      <td>yes</td>\n",
       "      <td>40</td>\n",
       "      <td>1</td>\n",
       "    </tr>\n",
       "    <tr>\n",
       "      <th>2185</th>\n",
       "      <td>73</td>\n",
       "      <td>9</td>\n",
       "      <td>2</td>\n",
       "      <td>basic</td>\n",
       "      <td>5</td>\n",
       "      <td>auto</td>\n",
       "      <td>yes</td>\n",
       "      <td>35</td>\n",
       "      <td>1</td>\n",
       "    </tr>\n",
       "    <tr>\n",
       "      <th>2520</th>\n",
       "      <td>85</td>\n",
       "      <td>1</td>\n",
       "      <td>1</td>\n",
       "      <td>basic</td>\n",
       "      <td>5</td>\n",
       "      <td>manual</td>\n",
       "      <td>no</td>\n",
       "      <td>35</td>\n",
       "      <td>0</td>\n",
       "    </tr>\n",
       "    <tr>\n",
       "      <th>3721</th>\n",
       "      <td>125</td>\n",
       "      <td>1</td>\n",
       "      <td>2</td>\n",
       "      <td>racer</td>\n",
       "      <td>5</td>\n",
       "      <td>auto</td>\n",
       "      <td>yes</td>\n",
       "      <td>40</td>\n",
       "      <td>0</td>\n",
       "    </tr>\n",
       "    <tr>\n",
       "      <th>3727</th>\n",
       "      <td>125</td>\n",
       "      <td>3</td>\n",
       "      <td>2</td>\n",
       "      <td>racer</td>\n",
       "      <td>5</td>\n",
       "      <td>auto</td>\n",
       "      <td>yes</td>\n",
       "      <td>30</td>\n",
       "      <td>1</td>\n",
       "    </tr>\n",
       "    <tr>\n",
       "      <th>4524</th>\n",
       "      <td>151</td>\n",
       "      <td>9</td>\n",
       "      <td>1</td>\n",
       "      <td>basic</td>\n",
       "      <td>4</td>\n",
       "      <td>auto</td>\n",
       "      <td>yes</td>\n",
       "      <td>30</td>\n",
       "      <td>1</td>\n",
       "    </tr>\n",
       "    <tr>\n",
       "      <th>234</th>\n",
       "      <td>8</td>\n",
       "      <td>9</td>\n",
       "      <td>1</td>\n",
       "      <td>basic</td>\n",
       "      <td>2</td>\n",
       "      <td>auto</td>\n",
       "      <td>yes</td>\n",
       "      <td>40</td>\n",
       "      <td>0</td>\n",
       "    </tr>\n",
       "    <tr>\n",
       "      <th>4735</th>\n",
       "      <td>158</td>\n",
       "      <td>9</td>\n",
       "      <td>2</td>\n",
       "      <td>basic</td>\n",
       "      <td>5</td>\n",
       "      <td>manual</td>\n",
       "      <td>yes</td>\n",
       "      <td>35</td>\n",
       "      <td>0</td>\n",
       "    </tr>\n",
       "    <tr>\n",
       "      <th>5839</th>\n",
       "      <td>195</td>\n",
       "      <td>7</td>\n",
       "      <td>2</td>\n",
       "      <td>basic</td>\n",
       "      <td>4</td>\n",
       "      <td>auto</td>\n",
       "      <td>no</td>\n",
       "      <td>30</td>\n",
       "      <td>1</td>\n",
       "    </tr>\n",
       "    <tr>\n",
       "      <th>2939</th>\n",
       "      <td>98</td>\n",
       "      <td>10</td>\n",
       "      <td>3</td>\n",
       "      <td>basic</td>\n",
       "      <td>2</td>\n",
       "      <td>auto</td>\n",
       "      <td>no</td>\n",
       "      <td>30</td>\n",
       "      <td>1</td>\n",
       "    </tr>\n",
       "  </tbody>\n",
       "</table>\n",
       "</div>"
      ],
      "text/plain": [
       "      resp_id  ques  alt segment  seat   trans convert  price  choice\n",
       "1483       50     5    2     fun     2  manual     yes     40       1\n",
       "2185       73     9    2   basic     5    auto     yes     35       1\n",
       "2520       85     1    1   basic     5  manual      no     35       0\n",
       "3721      125     1    2   racer     5    auto     yes     40       0\n",
       "3727      125     3    2   racer     5    auto     yes     30       1\n",
       "4524      151     9    1   basic     4    auto     yes     30       1\n",
       "234         8     9    1   basic     2    auto     yes     40       0\n",
       "4735      158     9    2   basic     5  manual     yes     35       0\n",
       "5839      195     7    2   basic     4    auto      no     30       1\n",
       "2939       98    10    3   basic     2    auto      no     30       1"
      ]
     },
     "execution_count": 4,
     "metadata": {},
     "output_type": "execute_result"
    }
   ],
   "source": [
    "df_sportscar.sample(10, random_state=1)"
   ]
  },
  {
   "cell_type": "code",
   "execution_count": 5,
   "id": "fda231a2-1e50-48c4-bc30-09674854a671",
   "metadata": {
    "execution": {
     "iopub.execute_input": "2023-07-27T07:32:29.598013Z",
     "iopub.status.busy": "2023-07-27T07:32:29.597442Z",
     "iopub.status.idle": "2023-07-27T07:32:29.607114Z",
     "shell.execute_reply": "2023-07-27T07:32:29.605691Z",
     "shell.execute_reply.started": "2023-07-27T07:32:29.597958Z"
    }
   },
   "outputs": [],
   "source": [
    "def generate_onehot(data, cat_cols=[\"segment\", \"trans\", \"convert\"], encoder=None):\n",
    "    \"\"\"Generate one-hot data with OneHotEncoder for several columns\n",
    "    and the compile them with the rest\"\"\"\n",
    "    if not encoder:\n",
    "        encoder = OneHotEncoder(sparse_output=False)\n",
    "        onehot_data = encoder.fit_transform(data[cat_cols])\n",
    "    else:\n",
    "        onehot_data = encoder.transform(data[cat_cols])\n",
    "    onehot_data = pd.DataFrame(\n",
    "        onehot_data,\n",
    "        columns=encoder.get_feature_names_out()\n",
    "    )\n",
    "\n",
    "    data = pd.concat([data, onehot_data], axis=1)\n",
    "    data.drop(columns=cat_cols, inplace=True)\n",
    "\n",
    "    return data, encoder"
   ]
  },
  {
   "cell_type": "code",
   "execution_count": 6,
   "id": "a6af333f-1896-4b9f-974a-774960b4caf1",
   "metadata": {
    "execution": {
     "iopub.execute_input": "2023-07-27T07:32:29.608852Z",
     "iopub.status.busy": "2023-07-27T07:32:29.608473Z",
     "iopub.status.idle": "2023-07-27T07:32:29.624973Z",
     "shell.execute_reply": "2023-07-27T07:32:29.623384Z",
     "shell.execute_reply.started": "2023-07-27T07:32:29.608820Z"
    }
   },
   "outputs": [],
   "source": [
    "sportscar, encoder = generate_onehot(df_sportscar)"
   ]
  },
  {
   "cell_type": "code",
   "execution_count": 7,
   "id": "44fb4f72-2b5d-4068-aaa6-c19cbc45ce6f",
   "metadata": {
    "execution": {
     "iopub.execute_input": "2023-07-27T07:32:29.630225Z",
     "iopub.status.busy": "2023-07-27T07:32:29.629653Z",
     "iopub.status.idle": "2023-07-27T07:32:29.656193Z",
     "shell.execute_reply": "2023-07-27T07:32:29.654647Z",
     "shell.execute_reply.started": "2023-07-27T07:32:29.630181Z"
    }
   },
   "outputs": [
    {
     "data": {
      "text/html": [
       "<div>\n",
       "<style scoped>\n",
       "    .dataframe tbody tr th:only-of-type {\n",
       "        vertical-align: middle;\n",
       "    }\n",
       "\n",
       "    .dataframe tbody tr th {\n",
       "        vertical-align: top;\n",
       "    }\n",
       "\n",
       "    .dataframe thead th {\n",
       "        text-align: right;\n",
       "    }\n",
       "</style>\n",
       "<table border=\"1\" class=\"dataframe\">\n",
       "  <thead>\n",
       "    <tr style=\"text-align: right;\">\n",
       "      <th></th>\n",
       "      <th>resp_id</th>\n",
       "      <th>ques</th>\n",
       "      <th>alt</th>\n",
       "      <th>seat</th>\n",
       "      <th>price</th>\n",
       "      <th>choice</th>\n",
       "      <th>segment_basic</th>\n",
       "      <th>segment_fun</th>\n",
       "      <th>segment_racer</th>\n",
       "      <th>trans_auto</th>\n",
       "      <th>trans_manual</th>\n",
       "      <th>convert_no</th>\n",
       "      <th>convert_yes</th>\n",
       "    </tr>\n",
       "  </thead>\n",
       "  <tbody>\n",
       "    <tr>\n",
       "      <th>0</th>\n",
       "      <td>1</td>\n",
       "      <td>1</td>\n",
       "      <td>1</td>\n",
       "      <td>2</td>\n",
       "      <td>35</td>\n",
       "      <td>0</td>\n",
       "      <td>1.0</td>\n",
       "      <td>0.0</td>\n",
       "      <td>0.0</td>\n",
       "      <td>0.0</td>\n",
       "      <td>1.0</td>\n",
       "      <td>0.0</td>\n",
       "      <td>1.0</td>\n",
       "    </tr>\n",
       "    <tr>\n",
       "      <th>1</th>\n",
       "      <td>1</td>\n",
       "      <td>1</td>\n",
       "      <td>2</td>\n",
       "      <td>5</td>\n",
       "      <td>40</td>\n",
       "      <td>0</td>\n",
       "      <td>1.0</td>\n",
       "      <td>0.0</td>\n",
       "      <td>0.0</td>\n",
       "      <td>1.0</td>\n",
       "      <td>0.0</td>\n",
       "      <td>1.0</td>\n",
       "      <td>0.0</td>\n",
       "    </tr>\n",
       "    <tr>\n",
       "      <th>2</th>\n",
       "      <td>1</td>\n",
       "      <td>1</td>\n",
       "      <td>3</td>\n",
       "      <td>5</td>\n",
       "      <td>30</td>\n",
       "      <td>1</td>\n",
       "      <td>1.0</td>\n",
       "      <td>0.0</td>\n",
       "      <td>0.0</td>\n",
       "      <td>1.0</td>\n",
       "      <td>0.0</td>\n",
       "      <td>1.0</td>\n",
       "      <td>0.0</td>\n",
       "    </tr>\n",
       "    <tr>\n",
       "      <th>3</th>\n",
       "      <td>1</td>\n",
       "      <td>2</td>\n",
       "      <td>1</td>\n",
       "      <td>5</td>\n",
       "      <td>35</td>\n",
       "      <td>0</td>\n",
       "      <td>1.0</td>\n",
       "      <td>0.0</td>\n",
       "      <td>0.0</td>\n",
       "      <td>0.0</td>\n",
       "      <td>1.0</td>\n",
       "      <td>1.0</td>\n",
       "      <td>0.0</td>\n",
       "    </tr>\n",
       "    <tr>\n",
       "      <th>4</th>\n",
       "      <td>1</td>\n",
       "      <td>2</td>\n",
       "      <td>2</td>\n",
       "      <td>2</td>\n",
       "      <td>30</td>\n",
       "      <td>1</td>\n",
       "      <td>1.0</td>\n",
       "      <td>0.0</td>\n",
       "      <td>0.0</td>\n",
       "      <td>0.0</td>\n",
       "      <td>1.0</td>\n",
       "      <td>1.0</td>\n",
       "      <td>0.0</td>\n",
       "    </tr>\n",
       "    <tr>\n",
       "      <th>...</th>\n",
       "      <td>...</td>\n",
       "      <td>...</td>\n",
       "      <td>...</td>\n",
       "      <td>...</td>\n",
       "      <td>...</td>\n",
       "      <td>...</td>\n",
       "      <td>...</td>\n",
       "      <td>...</td>\n",
       "      <td>...</td>\n",
       "      <td>...</td>\n",
       "      <td>...</td>\n",
       "      <td>...</td>\n",
       "      <td>...</td>\n",
       "    </tr>\n",
       "    <tr>\n",
       "      <th>5995</th>\n",
       "      <td>200</td>\n",
       "      <td>9</td>\n",
       "      <td>2</td>\n",
       "      <td>2</td>\n",
       "      <td>35</td>\n",
       "      <td>0</td>\n",
       "      <td>0.0</td>\n",
       "      <td>1.0</td>\n",
       "      <td>0.0</td>\n",
       "      <td>1.0</td>\n",
       "      <td>0.0</td>\n",
       "      <td>0.0</td>\n",
       "      <td>1.0</td>\n",
       "    </tr>\n",
       "    <tr>\n",
       "      <th>5996</th>\n",
       "      <td>200</td>\n",
       "      <td>9</td>\n",
       "      <td>3</td>\n",
       "      <td>4</td>\n",
       "      <td>30</td>\n",
       "      <td>0</td>\n",
       "      <td>0.0</td>\n",
       "      <td>1.0</td>\n",
       "      <td>0.0</td>\n",
       "      <td>0.0</td>\n",
       "      <td>1.0</td>\n",
       "      <td>1.0</td>\n",
       "      <td>0.0</td>\n",
       "    </tr>\n",
       "    <tr>\n",
       "      <th>5997</th>\n",
       "      <td>200</td>\n",
       "      <td>10</td>\n",
       "      <td>1</td>\n",
       "      <td>4</td>\n",
       "      <td>40</td>\n",
       "      <td>0</td>\n",
       "      <td>0.0</td>\n",
       "      <td>1.0</td>\n",
       "      <td>0.0</td>\n",
       "      <td>1.0</td>\n",
       "      <td>0.0</td>\n",
       "      <td>0.0</td>\n",
       "      <td>1.0</td>\n",
       "    </tr>\n",
       "    <tr>\n",
       "      <th>5998</th>\n",
       "      <td>200</td>\n",
       "      <td>10</td>\n",
       "      <td>2</td>\n",
       "      <td>4</td>\n",
       "      <td>30</td>\n",
       "      <td>1</td>\n",
       "      <td>0.0</td>\n",
       "      <td>1.0</td>\n",
       "      <td>0.0</td>\n",
       "      <td>1.0</td>\n",
       "      <td>0.0</td>\n",
       "      <td>1.0</td>\n",
       "      <td>0.0</td>\n",
       "    </tr>\n",
       "    <tr>\n",
       "      <th>5999</th>\n",
       "      <td>200</td>\n",
       "      <td>10</td>\n",
       "      <td>3</td>\n",
       "      <td>4</td>\n",
       "      <td>40</td>\n",
       "      <td>0</td>\n",
       "      <td>0.0</td>\n",
       "      <td>1.0</td>\n",
       "      <td>0.0</td>\n",
       "      <td>0.0</td>\n",
       "      <td>1.0</td>\n",
       "      <td>1.0</td>\n",
       "      <td>0.0</td>\n",
       "    </tr>\n",
       "  </tbody>\n",
       "</table>\n",
       "<p>6000 rows × 13 columns</p>\n",
       "</div>"
      ],
      "text/plain": [
       "      resp_id  ques  alt  seat  price  choice  segment_basic  segment_fun  \\\n",
       "0           1     1    1     2     35       0            1.0          0.0   \n",
       "1           1     1    2     5     40       0            1.0          0.0   \n",
       "2           1     1    3     5     30       1            1.0          0.0   \n",
       "3           1     2    1     5     35       0            1.0          0.0   \n",
       "4           1     2    2     2     30       1            1.0          0.0   \n",
       "...       ...   ...  ...   ...    ...     ...            ...          ...   \n",
       "5995      200     9    2     2     35       0            0.0          1.0   \n",
       "5996      200     9    3     4     30       0            0.0          1.0   \n",
       "5997      200    10    1     4     40       0            0.0          1.0   \n",
       "5998      200    10    2     4     30       1            0.0          1.0   \n",
       "5999      200    10    3     4     40       0            0.0          1.0   \n",
       "\n",
       "      segment_racer  trans_auto  trans_manual  convert_no  convert_yes  \n",
       "0               0.0         0.0           1.0         0.0          1.0  \n",
       "1               0.0         1.0           0.0         1.0          0.0  \n",
       "2               0.0         1.0           0.0         1.0          0.0  \n",
       "3               0.0         0.0           1.0         1.0          0.0  \n",
       "4               0.0         0.0           1.0         1.0          0.0  \n",
       "...             ...         ...           ...         ...          ...  \n",
       "5995            0.0         1.0           0.0         0.0          1.0  \n",
       "5996            0.0         0.0           1.0         1.0          0.0  \n",
       "5997            0.0         1.0           0.0         0.0          1.0  \n",
       "5998            0.0         1.0           0.0         1.0          0.0  \n",
       "5999            0.0         0.0           1.0         1.0          0.0  \n",
       "\n",
       "[6000 rows x 13 columns]"
      ]
     },
     "execution_count": 7,
     "metadata": {},
     "output_type": "execute_result"
    }
   ],
   "source": [
    "sportscar"
   ]
  },
  {
   "cell_type": "markdown",
   "id": "1f7a2a08-1924-4145-9859-d420418f9a4c",
   "metadata": {},
   "source": [
    "## Modeling dengan Python\n",
    "\n",
    "Tergantung bagaimana bentuk pilihan yang diberikan oleh responden, model yang kita gunakan akan berbeda.\n",
    "\n",
    "```{table}\n",
    ":name: response-to-model\n",
    ":align: center\n",
    "\n",
    "| type of response | model |\n",
    "| ------ | ----- |\n",
    "| rating-based | `OLS` |\n",
    "| ranking-based | `OLS` / `MNL` |\n",
    "| choice-based | `MNL` |\n",
    "```"
   ]
  },
  {
   "cell_type": "code",
   "execution_count": 8,
   "id": "0233ead0-8bf8-4f75-9985-0008c8ba169f",
   "metadata": {
    "execution": {
     "iopub.execute_input": "2023-07-27T07:32:29.659030Z",
     "iopub.status.busy": "2023-07-27T07:32:29.657422Z",
     "iopub.status.idle": "2023-07-27T07:32:29.757566Z",
     "shell.execute_reply": "2023-07-27T07:32:29.755679Z",
     "shell.execute_reply.started": "2023-07-27T07:32:29.658978Z"
    }
   },
   "outputs": [
    {
     "name": "stdout",
     "output_type": "stream",
     "text": [
      "Optimization terminated successfully.\n",
      "         Current function value: 0.559275\n",
      "         Iterations 6\n"
     ]
    }
   ],
   "source": [
    "model = smf.mnlogit(\"choice ~ trans + convert + seat + price\", df_sportscar).fit()"
   ]
  },
  {
   "cell_type": "markdown",
   "id": "d8977657-0679-41b0-b037-008d8438c863",
   "metadata": {},
   "source": [
    "Apa yang dilakukan dengan kode di atas?\n",
    "\n",
    "* `choice ~ trans + convert + seat + price` merupakan persamaan yang menjadi basis dari model **multinomial logit** untuk menentukan masing-masing parameter setiap atribut\n",
    "* karena atribut `trans`, dan juga `convert` adalah atribut kategoris, secara implisit model akan mengubahnya menjadi matriks _one-hot_ seperti berikut ini."
   ]
  },
  {
   "cell_type": "code",
   "execution_count": 9,
   "id": "0fc96ded-a2da-4d40-ad84-563e51940610",
   "metadata": {
    "execution": {
     "iopub.execute_input": "2023-07-27T07:32:29.760562Z",
     "iopub.status.busy": "2023-07-27T07:32:29.759823Z",
     "iopub.status.idle": "2023-07-27T07:32:29.882635Z",
     "shell.execute_reply": "2023-07-27T07:32:29.881169Z",
     "shell.execute_reply.started": "2023-07-27T07:32:29.760516Z"
    }
   },
   "outputs": [
    {
     "data": {
      "text/html": [
       "<div>\n",
       "<style scoped>\n",
       "    .dataframe tbody tr th:only-of-type {\n",
       "        vertical-align: middle;\n",
       "    }\n",
       "\n",
       "    .dataframe tbody tr th {\n",
       "        vertical-align: top;\n",
       "    }\n",
       "\n",
       "    .dataframe thead th {\n",
       "        text-align: right;\n",
       "    }\n",
       "</style>\n",
       "<table border=\"1\" class=\"dataframe\">\n",
       "  <thead>\n",
       "    <tr style=\"text-align: right;\">\n",
       "      <th></th>\n",
       "      <th>Intercept</th>\n",
       "      <th>trans[T.manual]</th>\n",
       "      <th>convert[T.yes]</th>\n",
       "      <th>seat</th>\n",
       "      <th>price</th>\n",
       "    </tr>\n",
       "  </thead>\n",
       "  <tbody>\n",
       "    <tr>\n",
       "      <th>0</th>\n",
       "      <td>1.0</td>\n",
       "      <td>1.0</td>\n",
       "      <td>1.0</td>\n",
       "      <td>2.0</td>\n",
       "      <td>35.0</td>\n",
       "    </tr>\n",
       "    <tr>\n",
       "      <th>1</th>\n",
       "      <td>1.0</td>\n",
       "      <td>0.0</td>\n",
       "      <td>0.0</td>\n",
       "      <td>5.0</td>\n",
       "      <td>40.0</td>\n",
       "    </tr>\n",
       "    <tr>\n",
       "      <th>2</th>\n",
       "      <td>1.0</td>\n",
       "      <td>0.0</td>\n",
       "      <td>0.0</td>\n",
       "      <td>5.0</td>\n",
       "      <td>30.0</td>\n",
       "    </tr>\n",
       "    <tr>\n",
       "      <th>3</th>\n",
       "      <td>1.0</td>\n",
       "      <td>1.0</td>\n",
       "      <td>0.0</td>\n",
       "      <td>5.0</td>\n",
       "      <td>35.0</td>\n",
       "    </tr>\n",
       "    <tr>\n",
       "      <th>4</th>\n",
       "      <td>1.0</td>\n",
       "      <td>1.0</td>\n",
       "      <td>0.0</td>\n",
       "      <td>2.0</td>\n",
       "      <td>30.0</td>\n",
       "    </tr>\n",
       "    <tr>\n",
       "      <th>...</th>\n",
       "      <td>...</td>\n",
       "      <td>...</td>\n",
       "      <td>...</td>\n",
       "      <td>...</td>\n",
       "      <td>...</td>\n",
       "    </tr>\n",
       "    <tr>\n",
       "      <th>5995</th>\n",
       "      <td>1.0</td>\n",
       "      <td>0.0</td>\n",
       "      <td>1.0</td>\n",
       "      <td>2.0</td>\n",
       "      <td>35.0</td>\n",
       "    </tr>\n",
       "    <tr>\n",
       "      <th>5996</th>\n",
       "      <td>1.0</td>\n",
       "      <td>1.0</td>\n",
       "      <td>0.0</td>\n",
       "      <td>4.0</td>\n",
       "      <td>30.0</td>\n",
       "    </tr>\n",
       "    <tr>\n",
       "      <th>5997</th>\n",
       "      <td>1.0</td>\n",
       "      <td>0.0</td>\n",
       "      <td>1.0</td>\n",
       "      <td>4.0</td>\n",
       "      <td>40.0</td>\n",
       "    </tr>\n",
       "    <tr>\n",
       "      <th>5998</th>\n",
       "      <td>1.0</td>\n",
       "      <td>0.0</td>\n",
       "      <td>0.0</td>\n",
       "      <td>4.0</td>\n",
       "      <td>30.0</td>\n",
       "    </tr>\n",
       "    <tr>\n",
       "      <th>5999</th>\n",
       "      <td>1.0</td>\n",
       "      <td>1.0</td>\n",
       "      <td>0.0</td>\n",
       "      <td>4.0</td>\n",
       "      <td>40.0</td>\n",
       "    </tr>\n",
       "  </tbody>\n",
       "</table>\n",
       "<p>6000 rows × 5 columns</p>\n",
       "</div>"
      ],
      "text/plain": [
       "      Intercept  trans[T.manual]  convert[T.yes]  seat  price\n",
       "0           1.0              1.0             1.0   2.0   35.0\n",
       "1           1.0              0.0             0.0   5.0   40.0\n",
       "2           1.0              0.0             0.0   5.0   30.0\n",
       "3           1.0              1.0             0.0   5.0   35.0\n",
       "4           1.0              1.0             0.0   2.0   30.0\n",
       "...         ...              ...             ...   ...    ...\n",
       "5995        1.0              0.0             1.0   2.0   35.0\n",
       "5996        1.0              1.0             0.0   4.0   30.0\n",
       "5997        1.0              0.0             1.0   4.0   40.0\n",
       "5998        1.0              0.0             0.0   4.0   30.0\n",
       "5999        1.0              1.0             0.0   4.0   40.0\n",
       "\n",
       "[6000 rows x 5 columns]"
      ]
     },
     "execution_count": 9,
     "metadata": {},
     "output_type": "execute_result"
    }
   ],
   "source": [
    "(dmatrices(\"choice ~ trans + convert + seat + price\", df_sportscar, return_type=\"dataframe\")[1])"
   ]
  },
  {
   "cell_type": "markdown",
   "id": "5285f77b-cdd4-44fc-af18-86b4cf96bf9b",
   "metadata": {},
   "source": [
    "Hasil dari pemodelan di atas adalah sebagai berikut."
   ]
  },
  {
   "cell_type": "code",
   "execution_count": 10,
   "id": "59a53744-44c7-4817-875d-e505129ee653",
   "metadata": {
    "execution": {
     "iopub.execute_input": "2023-07-27T07:32:29.886230Z",
     "iopub.status.busy": "2023-07-27T07:32:29.885282Z",
     "iopub.status.idle": "2023-07-27T07:32:29.948671Z",
     "shell.execute_reply": "2023-07-27T07:32:29.946237Z",
     "shell.execute_reply.started": "2023-07-27T07:32:29.886172Z"
    }
   },
   "outputs": [
    {
     "name": "stdout",
     "output_type": "stream",
     "text": [
      "                          MNLogit Regression Results                          \n",
      "==============================================================================\n",
      "Dep. Variable:                 choice   No. Observations:                 6000\n",
      "Model:                        MNLogit   Df Residuals:                     5995\n",
      "Method:                           MLE   Df Model:                            4\n",
      "Date:                Thu, 27 Jul 2023   Pseudo R-squ.:                  0.1213\n",
      "Time:                        14:32:29   Log-Likelihood:                -3355.6\n",
      "converged:                       True   LL-Null:                       -3819.1\n",
      "Covariance Type:            nonrobust   LLR p-value:                2.507e-199\n",
      "===================================================================================\n",
      "       choice=1       coef    std err          z      P>|z|      [0.025      0.975]\n",
      "-----------------------------------------------------------------------------------\n",
      "Intercept           5.2024      0.281     18.542      0.000       4.652       5.752\n",
      "trans[T.manual]    -1.1155      0.061    -18.356      0.000      -1.235      -0.996\n",
      "convert[T.yes]      0.1973      0.059      3.320      0.001       0.081       0.314\n",
      "seat                0.1287      0.024      5.356      0.000       0.082       0.176\n",
      "price              -0.1726      0.008    -22.521      0.000      -0.188      -0.158\n",
      "===================================================================================\n"
     ]
    }
   ],
   "source": [
    "print(model.summary())"
   ]
  },
  {
   "cell_type": "markdown",
   "id": "d296028d-d91e-4423-8101-4c4d727b1633",
   "metadata": {},
   "source": [
    "### Interpretasi Parameter\n",
    "\n",
    "Untuk alasan kesederhanaan dan penjelasan, mari kita buat model sederhana dengan hanya memperhitungkan atribut `seat` dan `price` saja."
   ]
  },
  {
   "cell_type": "code",
   "execution_count": 11,
   "id": "b4a1c34f-8749-4cd1-a68d-971677b78bef",
   "metadata": {
    "execution": {
     "iopub.execute_input": "2023-07-27T07:32:29.953646Z",
     "iopub.status.busy": "2023-07-27T07:32:29.952821Z",
     "iopub.status.idle": "2023-07-27T07:32:30.039366Z",
     "shell.execute_reply": "2023-07-27T07:32:30.038366Z",
     "shell.execute_reply.started": "2023-07-27T07:32:29.953601Z"
    }
   },
   "outputs": [
    {
     "name": "stdout",
     "output_type": "stream",
     "text": [
      "Optimization terminated successfully.\n",
      "         Current function value: 0.589763\n",
      "         Iterations 5\n",
      "                          MNLogit Regression Results                          \n",
      "==============================================================================\n",
      "Dep. Variable:                 choice   No. Observations:                 6000\n",
      "Model:                        MNLogit   Df Residuals:                     5997\n",
      "Method:                           MLE   Df Model:                            2\n",
      "Date:                Thu, 27 Jul 2023   Pseudo R-squ.:                 0.07345\n",
      "Time:                        14:32:30   Log-Likelihood:                -3538.6\n",
      "converged:                       True   LL-Null:                       -3819.1\n",
      "Covariance Type:            nonrobust   LLR p-value:                1.503e-122\n",
      "==============================================================================\n",
      "  choice=1       coef    std err          z      P>|z|      [0.025      0.975]\n",
      "------------------------------------------------------------------------------\n",
      "Intercept      4.4603      0.264     16.871      0.000       3.942       4.979\n",
      "seat           0.1241      0.023      5.332      0.000       0.079       0.170\n",
      "price         -0.1625      0.007    -22.073      0.000      -0.177      -0.148\n",
      "==============================================================================\n"
     ]
    }
   ],
   "source": [
    "simple_model = smf.mnlogit(\"choice ~ seat + price\", df_sportscar).fit()\n",
    "print(simple_model.summary())"
   ]
  },
  {
   "cell_type": "markdown",
   "id": "c3812fc1-7350-4976-b00f-24fcfcede5a8",
   "metadata": {},
   "source": [
    "Dari kolom `coef` di atas, untuk kita menginterpretasikan nilai ini, kita gunakan persamaan {eq}`utility_alternative`.\n",
    "\n",
    "Secara umum, koefisien dari masing-masing atribut tersebut membentuk persamaan:\n",
    "\n",
    "```{math}\n",
    ":name: simple-model-interpretation\n",
    "\n",
    "choice = 0.1241 \\cdot seat + -0.1625 \\cdot price\n",
    "```\n",
    "\n",
    "Variabel **choice** yang dimaksud merujuk pada setiap alternatif yang disajikan. Dengan kata lain, untuk menghitung nilai $v_1$ pada {eq}`utility_alternative`, kita bisa memasukkan nilai `seat` dan `price` pada alternatif $v_1$ tersebut.\n",
    "\n",
    "Tapi, apa maksud dari nilai-nilai tersebut?\n",
    "\n",
    "Berdasarkan nilai tersebut, kita bisa membuat interpretasi bahwa:\n",
    "* nilai positif pada `seat` berarti responden memiliki preferensi lebih ke angka yang besar, alias semakin banyak mobil dapat menampung penumpang, semakin disukai\n",
    "* sebaliknya, nilai negatif pada `price` berarti responden memiliki preferensi lebih ke mobil dengan harga yang lebih murah\n",
    "\n",
    "```{hint}\n",
    "Pada prinsipnya, nilai koefisien yang **lebih dari 1** atau **kurang dari -1** mengindikasikan bahwa atribut tersebut memiliki pengaruh yang \"signifikan\" terhadap preferensi responden. Sebaliknya, semkain dekat nilai koefisien dengan 0, semakin lemah juga tingkat pengaruh atribut terhadap preferensi responden.\n",
    "```\n",
    "\n",
    "Lalu, bagaimana dengan atribut kategoris seperti `convert` atau `trans`? Untuk itu, mari kita lihat pada model sebelumnya."
   ]
  },
  {
   "cell_type": "code",
   "execution_count": 12,
   "id": "f68a24d3-3844-424a-9c02-f05dac79f103",
   "metadata": {
    "execution": {
     "iopub.execute_input": "2023-07-27T07:32:30.041884Z",
     "iopub.status.busy": "2023-07-27T07:32:30.040979Z",
     "iopub.status.idle": "2023-07-27T07:32:30.085350Z",
     "shell.execute_reply": "2023-07-27T07:32:30.083973Z",
     "shell.execute_reply.started": "2023-07-27T07:32:30.041835Z"
    }
   },
   "outputs": [
    {
     "data": {
      "text/html": [
       "<table class=\"simpletable\">\n",
       "<caption>MNLogit Regression Results</caption>\n",
       "<tr>\n",
       "  <th>Dep. Variable:</th>        <td>choice</td>      <th>  No. Observations:  </th>   <td>  6000</td>  \n",
       "</tr>\n",
       "<tr>\n",
       "  <th>Model:</th>                <td>MNLogit</td>     <th>  Df Residuals:      </th>   <td>  5995</td>  \n",
       "</tr>\n",
       "<tr>\n",
       "  <th>Method:</th>                 <td>MLE</td>       <th>  Df Model:          </th>   <td>     4</td>  \n",
       "</tr>\n",
       "<tr>\n",
       "  <th>Date:</th>            <td>Thu, 27 Jul 2023</td> <th>  Pseudo R-squ.:     </th>   <td>0.1213</td>  \n",
       "</tr>\n",
       "<tr>\n",
       "  <th>Time:</th>                <td>14:32:30</td>     <th>  Log-Likelihood:    </th>  <td> -3355.6</td> \n",
       "</tr>\n",
       "<tr>\n",
       "  <th>converged:</th>             <td>True</td>       <th>  LL-Null:           </th>  <td> -3819.1</td> \n",
       "</tr>\n",
       "<tr>\n",
       "  <th>Covariance Type:</th>     <td>nonrobust</td>    <th>  LLR p-value:       </th> <td>2.507e-199</td>\n",
       "</tr>\n",
       "</table>\n",
       "<table class=\"simpletable\">\n",
       "<tr>\n",
       "     <th>choice=1</th>        <th>coef</th>     <th>std err</th>      <th>z</th>      <th>P>|z|</th>  <th>[0.025</th>    <th>0.975]</th>  \n",
       "</tr>\n",
       "<tr>\n",
       "  <th>Intercept</th>       <td>    5.2024</td> <td>    0.281</td> <td>   18.542</td> <td> 0.000</td> <td>    4.652</td> <td>    5.752</td>\n",
       "</tr>\n",
       "<tr>\n",
       "  <th>trans[T.manual]</th> <td>   -1.1155</td> <td>    0.061</td> <td>  -18.356</td> <td> 0.000</td> <td>   -1.235</td> <td>   -0.996</td>\n",
       "</tr>\n",
       "<tr>\n",
       "  <th>convert[T.yes]</th>  <td>    0.1973</td> <td>    0.059</td> <td>    3.320</td> <td> 0.001</td> <td>    0.081</td> <td>    0.314</td>\n",
       "</tr>\n",
       "<tr>\n",
       "  <th>seat</th>            <td>    0.1287</td> <td>    0.024</td> <td>    5.356</td> <td> 0.000</td> <td>    0.082</td> <td>    0.176</td>\n",
       "</tr>\n",
       "<tr>\n",
       "  <th>price</th>           <td>   -0.1726</td> <td>    0.008</td> <td>  -22.521</td> <td> 0.000</td> <td>   -0.188</td> <td>   -0.158</td>\n",
       "</tr>\n",
       "</table>"
      ],
      "text/latex": [
       "\\begin{center}\n",
       "\\begin{tabular}{lclc}\n",
       "\\toprule\n",
       "\\textbf{Dep. Variable:}   &      choice      & \\textbf{  No. Observations:  } &     6000    \\\\\n",
       "\\textbf{Model:}           &     MNLogit      & \\textbf{  Df Residuals:      } &     5995    \\\\\n",
       "\\textbf{Method:}          &       MLE        & \\textbf{  Df Model:          } &        4    \\\\\n",
       "\\textbf{Date:}            & Thu, 27 Jul 2023 & \\textbf{  Pseudo R-squ.:     } &   0.1213    \\\\\n",
       "\\textbf{Time:}            &     14:32:30     & \\textbf{  Log-Likelihood:    } &   -3355.6   \\\\\n",
       "\\textbf{converged:}       &       True       & \\textbf{  LL-Null:           } &   -3819.1   \\\\\n",
       "\\textbf{Covariance Type:} &    nonrobust     & \\textbf{  LLR p-value:       } & 2.507e-199  \\\\\n",
       "\\bottomrule\n",
       "\\end{tabular}\n",
       "\\begin{tabular}{ccccccc}\n",
       "   \\textbf{choice=1}     & \\textbf{coef} & \\textbf{std err} & \\textbf{z} & \\textbf{P$> |$z$|$} & \\textbf{[0.025} & \\textbf{0.975]}  \\\\\n",
       "\\midrule\n",
       "\\bottomrule\n",
       "\\end{tabular}\n",
       "\\begin{tabular}{lcccccc}\n",
       "\\textbf{Intercept}       &       5.2024  &        0.281     &    18.542  &         0.000        &        4.652    &        5.752     \\\\\n",
       "\\textbf{trans[T.manual]} &      -1.1155  &        0.061     &   -18.356  &         0.000        &       -1.235    &       -0.996     \\\\\n",
       "\\textbf{convert[T.yes]}  &       0.1973  &        0.059     &     3.320  &         0.001        &        0.081    &        0.314     \\\\\n",
       "\\textbf{seat}            &       0.1287  &        0.024     &     5.356  &         0.000        &        0.082    &        0.176     \\\\\n",
       "\\textbf{price}           &      -0.1726  &        0.008     &   -22.521  &         0.000        &       -0.188    &       -0.158     \\\\\n",
       "\\bottomrule\n",
       "\\end{tabular}\n",
       "%\\caption{MNLogit Regression Results}\n",
       "\\end{center}"
      ],
      "text/plain": [
       "<class 'statsmodels.iolib.summary.Summary'>\n",
       "\"\"\"\n",
       "                          MNLogit Regression Results                          \n",
       "==============================================================================\n",
       "Dep. Variable:                 choice   No. Observations:                 6000\n",
       "Model:                        MNLogit   Df Residuals:                     5995\n",
       "Method:                           MLE   Df Model:                            4\n",
       "Date:                Thu, 27 Jul 2023   Pseudo R-squ.:                  0.1213\n",
       "Time:                        14:32:30   Log-Likelihood:                -3355.6\n",
       "converged:                       True   LL-Null:                       -3819.1\n",
       "Covariance Type:            nonrobust   LLR p-value:                2.507e-199\n",
       "===================================================================================\n",
       "       choice=1       coef    std err          z      P>|z|      [0.025      0.975]\n",
       "-----------------------------------------------------------------------------------\n",
       "Intercept           5.2024      0.281     18.542      0.000       4.652       5.752\n",
       "trans[T.manual]    -1.1155      0.061    -18.356      0.000      -1.235      -0.996\n",
       "convert[T.yes]      0.1973      0.059      3.320      0.001       0.081       0.314\n",
       "seat                0.1287      0.024      5.356      0.000       0.082       0.176\n",
       "price              -0.1726      0.008    -22.521      0.000      -0.188      -0.158\n",
       "===================================================================================\n",
       "\"\"\""
      ]
     },
     "execution_count": 12,
     "metadata": {},
     "output_type": "execute_result"
    }
   ],
   "source": [
    "model.summary()"
   ]
  },
  {
   "cell_type": "markdown",
   "id": "9de7e0ec-7e78-4345-8642-f629af5850fe",
   "metadata": {},
   "source": [
    "Sebagai _rule of thumb_, untuk atribut yang tidak ditampilkan pada ringkasan di atas, seperti `trans[T.auto]` dan `convert[T.no]`, menandakan bahwa atribut tersebut menjadi basis relatif dari atribut yang ditampilkan. Dengan kata lain, untuk atribut `trans` dan `convert`:\n",
    "* responden lebih memilih mobil dengan `trans = auto` dibandingkan dengan `manual` karena nilainya yang negatif\n",
    "* responden lebih memilih mobil dengan `convert = yes` dibandingkan dengan `no`\n",
    "\n",
    "Selain itu, untuk atribut `seat` dan `price`:\n",
    "* koefisien negatif dari `price` mengindikasikan bahwa responden lebih memilih mobil dengan harga yang lebih murah\n",
    "* sedangkan untuk `seat`, kita bisa menganggap bahwa preferensi responden bertambah senilai koefisien untuk setiap tambahan 1 seat"
   ]
  },
  {
   "cell_type": "markdown",
   "id": "1cbaddee-8f48-4bcd-8b5d-a360ab569e72",
   "metadata": {},
   "source": [
    "### Willingness to Pay\n",
    "\n",
    "Dengan menempatkan harga sebagai atribut pada alternatif produk, kita bisa menghitung **willingness to pay** untuk setiap atribut.\n",
    "\n",
    "```{hint}\n",
    "{cite:t}`applied_conjoint_analysis` menyebutkan bahwa **willingness to pay (WTP)** merupakan jumlah uang yang rela dibayarkan oleh customer untuk sebuah fitur/atribut tertentu.\n",
    "```\n",
    "\n",
    "Untuk menghitung WTP, kita gunakan persamaan berikut.\n",
    "\n",
    "```{math}\n",
    ":name: willingness-to-pay\n",
    "\n",
    "WTP_i = \\frac{feat_i}{-feat_{price}}\n",
    "```\n",
    "\n",
    "Sehingga, untuk model kita di atas, kita bisa menghitung WTP dengan membagi semua negatif dari koefisien atribut harga."
   ]
  },
  {
   "cell_type": "code",
   "execution_count": 13,
   "id": "a9d3eb4b-030a-4a10-bf89-8f8622c4f914",
   "metadata": {
    "execution": {
     "iopub.execute_input": "2023-07-27T07:32:30.088221Z",
     "iopub.status.busy": "2023-07-27T07:32:30.087625Z",
     "iopub.status.idle": "2023-07-27T07:32:30.102758Z",
     "shell.execute_reply": "2023-07-27T07:32:30.101712Z",
     "shell.execute_reply.started": "2023-07-27T07:32:30.088176Z"
    }
   },
   "outputs": [
    {
     "data": {
      "text/html": [
       "<div>\n",
       "<style scoped>\n",
       "    .dataframe tbody tr th:only-of-type {\n",
       "        vertical-align: middle;\n",
       "    }\n",
       "\n",
       "    .dataframe tbody tr th {\n",
       "        vertical-align: top;\n",
       "    }\n",
       "\n",
       "    .dataframe thead th {\n",
       "        text-align: right;\n",
       "    }\n",
       "</style>\n",
       "<table border=\"1\" class=\"dataframe\">\n",
       "  <thead>\n",
       "    <tr style=\"text-align: right;\">\n",
       "      <th></th>\n",
       "      <th>0</th>\n",
       "    </tr>\n",
       "  </thead>\n",
       "  <tbody>\n",
       "    <tr>\n",
       "      <th>Intercept</th>\n",
       "      <td>5.202387</td>\n",
       "    </tr>\n",
       "    <tr>\n",
       "      <th>trans[T.manual]</th>\n",
       "      <td>-1.115504</td>\n",
       "    </tr>\n",
       "    <tr>\n",
       "      <th>convert[T.yes]</th>\n",
       "      <td>0.197295</td>\n",
       "    </tr>\n",
       "    <tr>\n",
       "      <th>seat</th>\n",
       "      <td>0.128717</td>\n",
       "    </tr>\n",
       "    <tr>\n",
       "      <th>price</th>\n",
       "      <td>-0.172622</td>\n",
       "    </tr>\n",
       "  </tbody>\n",
       "</table>\n",
       "</div>"
      ],
      "text/plain": [
       "                        0\n",
       "Intercept        5.202387\n",
       "trans[T.manual] -1.115504\n",
       "convert[T.yes]   0.197295\n",
       "seat             0.128717\n",
       "price           -0.172622"
      ]
     },
     "execution_count": 13,
     "metadata": {},
     "output_type": "execute_result"
    }
   ],
   "source": [
    "model.params"
   ]
  },
  {
   "cell_type": "code",
   "execution_count": 14,
   "id": "edc4edc6-b719-444e-bddb-e7f8ef8b9031",
   "metadata": {
    "execution": {
     "iopub.execute_input": "2023-07-27T07:32:30.105533Z",
     "iopub.status.busy": "2023-07-27T07:32:30.104984Z",
     "iopub.status.idle": "2023-07-27T07:32:30.119045Z",
     "shell.execute_reply": "2023-07-27T07:32:30.117734Z",
     "shell.execute_reply.started": "2023-07-27T07:32:30.105483Z"
    }
   },
   "outputs": [
    {
     "data": {
      "text/html": [
       "<div>\n",
       "<style scoped>\n",
       "    .dataframe tbody tr th:only-of-type {\n",
       "        vertical-align: middle;\n",
       "    }\n",
       "\n",
       "    .dataframe tbody tr th {\n",
       "        vertical-align: top;\n",
       "    }\n",
       "\n",
       "    .dataframe thead th {\n",
       "        text-align: right;\n",
       "    }\n",
       "</style>\n",
       "<table border=\"1\" class=\"dataframe\">\n",
       "  <thead>\n",
       "    <tr style=\"text-align: right;\">\n",
       "      <th></th>\n",
       "      <th>0</th>\n",
       "    </tr>\n",
       "  </thead>\n",
       "  <tbody>\n",
       "    <tr>\n",
       "      <th>Intercept</th>\n",
       "      <td>30.137437</td>\n",
       "    </tr>\n",
       "    <tr>\n",
       "      <th>trans[T.manual]</th>\n",
       "      <td>-6.462116</td>\n",
       "    </tr>\n",
       "    <tr>\n",
       "      <th>convert[T.yes]</th>\n",
       "      <td>1.142930</td>\n",
       "    </tr>\n",
       "    <tr>\n",
       "      <th>seat</th>\n",
       "      <td>0.745656</td>\n",
       "    </tr>\n",
       "    <tr>\n",
       "      <th>price</th>\n",
       "      <td>-1.000000</td>\n",
       "    </tr>\n",
       "  </tbody>\n",
       "</table>\n",
       "</div>"
      ],
      "text/plain": [
       "                         0\n",
       "Intercept        30.137437\n",
       "trans[T.manual]  -6.462116\n",
       "convert[T.yes]    1.142930\n",
       "seat              0.745656\n",
       "price            -1.000000"
      ]
     },
     "execution_count": 14,
     "metadata": {},
     "output_type": "execute_result"
    }
   ],
   "source": [
    "model.params / -model.params.loc[\"price\"]"
   ]
  },
  {
   "cell_type": "markdown",
   "id": "e696890d-dd41-421d-a4f4-bc5ea4b98a1e",
   "metadata": {},
   "source": [
    "Dengan mengasumsikan bahwa satuan harga yang digunakan adalah ribuan dolar, WTP untuk masing-masing atribut adalah (selain `price` dan `Intercept`):\n",
    "\n",
    "* untuk `trans[T.manual]`, responden memiliki preferensi setidaknya untuk memilih mobil dengan transmisi manual, harus ada potongan harga sebesar \\$6,462 dari mobil dengan transmisi auto\n",
    "* untuk `convert[T.yes]`, responden meiliki preferensi bahwa nilai yang harus mereka bayar untuk mendapatkan mobil dengan atap yang dapat dibuka bertambah sebesar \\$1,143\n",
    "* untuk `seat`, responden mengindikasikan bahwa setiap tambahan 1 seat pada mobil, wajar untuk menambah biaya sebesar \\$745"
   ]
  },
  {
   "cell_type": "markdown",
   "id": "2b546e77-0394-434e-a2b7-99a5c0ebecde",
   "metadata": {
    "execution": {
     "iopub.execute_input": "2023-07-27T04:45:18.089016Z",
     "iopub.status.busy": "2023-07-27T04:45:18.088582Z",
     "iopub.status.idle": "2023-07-27T04:45:18.623596Z",
     "shell.execute_reply": "2023-07-27T04:45:18.620708Z",
     "shell.execute_reply.started": "2023-07-27T04:45:18.088983Z"
    }
   },
   "source": [
    "### Partworth Utility\n",
    "\n",
    "**Partworth Utility** adalah sebuah angka yang mengukur seberapa besar masing-masing atribut berpengaruh terhadap keputusan responden untuk memilih alternatif ({cite:t}`applied_conjoint_analysis`.\n",
    "\n",
    "Kita bisa menggunakan nilai koefisien pada masing-masing atribut sebagai **partworth utility by level** atau nilai utilitas setiap level di atribut. Untuk menghitung **partworth utility by attribute**, kita perlu melakukan beberapa kalkulasi berikut."
   ]
  },
  {
   "cell_type": "code",
   "execution_count": 15,
   "id": "008915b5-2e35-4689-b748-3417061063cf",
   "metadata": {
    "execution": {
     "iopub.execute_input": "2023-07-27T07:32:30.124987Z",
     "iopub.status.busy": "2023-07-27T07:32:30.122198Z",
     "iopub.status.idle": "2023-07-27T07:32:30.135379Z",
     "shell.execute_reply": "2023-07-27T07:32:30.133607Z",
     "shell.execute_reply.started": "2023-07-27T07:32:30.124705Z"
    }
   },
   "outputs": [],
   "source": [
    "conjoint_attributes = [\"seat\", \"trans\", \"convert\", \"price\"]"
   ]
  },
  {
   "cell_type": "code",
   "execution_count": 16,
   "id": "c0669953-899c-4b51-a59a-1b61f30eb3ad",
   "metadata": {
    "execution": {
     "iopub.execute_input": "2023-07-27T07:32:30.137595Z",
     "iopub.status.busy": "2023-07-27T07:32:30.137217Z",
     "iopub.status.idle": "2023-07-27T07:32:30.153340Z",
     "shell.execute_reply": "2023-07-27T07:32:30.151844Z",
     "shell.execute_reply.started": "2023-07-27T07:32:30.137567Z"
    }
   },
   "outputs": [],
   "source": [
    "levels = []\n",
    "partworth = []\n",
    "partworth_range = []\n",
    "\n",
    "for atr in conjoint_attributes:\n",
    "    num_levels = df_sportscar[atr].nunique()\n",
    "    levels.append(df_sportscar[atr].unique().tolist())\n",
    "\n",
    "    new_part_worth = model.params.loc[model.params.index.str.startswith(atr)].values.tolist()[0]\n",
    "    new_part_worth.extend([-1 * sum(new_part_worth)])\n",
    "    partworth_range.append(max(new_part_worth) - min(new_part_worth))\n",
    "    partworth.append(new_part_worth)\n",
    "\n",
    "\n",
    "partworth_attribute = []\n",
    "for part in partworth_range:\n",
    "    partworth_attribute.append(round(100 * (part / sum(partworth_range)), 2))"
   ]
  },
  {
   "cell_type": "code",
   "execution_count": 17,
   "id": "e3038696-0a42-497a-a5f7-fd338d9d175a",
   "metadata": {
    "execution": {
     "iopub.execute_input": "2023-07-27T07:32:30.156960Z",
     "iopub.status.busy": "2023-07-27T07:32:30.155882Z",
     "iopub.status.idle": "2023-07-27T07:32:30.161728Z",
     "shell.execute_reply": "2023-07-27T07:32:30.160548Z",
     "shell.execute_reply.started": "2023-07-27T07:32:30.156916Z"
    }
   },
   "outputs": [
    {
     "name": "stdout",
     "output_type": "stream",
     "text": [
      "Part-worth Utility by Attribute: [7.97, 69.11, 12.22, 10.69]\n"
     ]
    }
   ],
   "source": [
    "print(\"Part-worth Utility by Attribute:\", partworth_attribute)"
   ]
  },
  {
   "cell_type": "code",
   "execution_count": 18,
   "id": "3d87df46-81b9-4d93-b9a8-63ecb014b757",
   "metadata": {
    "execution": {
     "iopub.execute_input": "2023-07-27T07:32:30.164597Z",
     "iopub.status.busy": "2023-07-27T07:32:30.164091Z",
     "iopub.status.idle": "2023-07-27T07:32:30.372278Z",
     "shell.execute_reply": "2023-07-27T07:32:30.371322Z",
     "shell.execute_reply.started": "2023-07-27T07:32:30.164553Z"
    }
   },
   "outputs": [
    {
     "data": {
      "image/png": "[encoded data removed]",
      "text/plain": [
       "<Figure size 1000x600 with 1 Axes>"
      ]
     },
     "metadata": {},
     "output_type": "display_data"
    }
   ],
   "source": [
    "plt.figure(figsize=(10, 6))\n",
    "sns.barplot(x=conjoint_attributes, y=partworth_attribute)\n",
    "plt.show()"
   ]
  },
  {
   "cell_type": "markdown",
   "id": "3e7ad4c8-173b-4006-a2c3-18aaaa940740",
   "metadata": {},
   "source": [
    "Secara umum, berikut adalah langkah-langkah untuk menghitung parworth utlity untuk masing-masing atribut:\n",
    "1. Hitung **_range_** preferensi dari semua parworth utility level dalam masing-masing atribut, yaitu selisih antara **nilai maksimum** dan **nilai minimum** dari setiap level di suatu atribut.\n",
    "2. Hitung **_importance ratio_** dari setiap atribut dengan cara membagi **_range_** preferensi suatu atribut dengan **jumlah _range_** keseluruhan atribut\n",
    "\n",
    "```{hint}\n",
    "Apa yang bisa kamu simpulkan dari visualisasi part-worth di atas?\n",
    "```"
   ]
  },
  {
   "cell_type": "markdown",
   "id": "05318543-f371-444d-8bc4-bef938c20848",
   "metadata": {},
   "source": [
    "### Predicting Shares\n",
    "\n",
    "Untuk menyampaikan hasil analisis ke _business user_ yang mungkin tidak punya latar belakang teknis akan sedikit rumit. Oleh karena itu, kita bisa menggunakan alternatif prediksi tentang apa yang akan orang-orang pilih jika kita hadapkan dengan beberapa alternatif produk.\n",
    "\n",
    "Misalkan kita ingin membandingkan produk yang mobil yang akan kita luncurkan jika dibandingkan dengan produk kompetitor. Berikut ini adalah fitur-fiturnya."
   ]
  },
  {
   "cell_type": "code",
   "execution_count": 19,
   "id": "dbb1f9b6-8fc0-4b96-9db6-3355c1ea869d",
   "metadata": {
    "execution": {
     "iopub.execute_input": "2023-07-27T07:32:30.374209Z",
     "iopub.status.busy": "2023-07-27T07:32:30.373661Z",
     "iopub.status.idle": "2023-07-27T07:32:30.393036Z",
     "shell.execute_reply": "2023-07-27T07:32:30.390693Z",
     "shell.execute_reply.started": "2023-07-27T07:32:30.374168Z"
    }
   },
   "outputs": [
    {
     "data": {
      "text/html": [
       "<div>\n",
       "<style scoped>\n",
       "    .dataframe tbody tr th:only-of-type {\n",
       "        vertical-align: middle;\n",
       "    }\n",
       "\n",
       "    .dataframe tbody tr th {\n",
       "        vertical-align: top;\n",
       "    }\n",
       "\n",
       "    .dataframe thead th {\n",
       "        text-align: right;\n",
       "    }\n",
       "</style>\n",
       "<table border=\"1\" class=\"dataframe\">\n",
       "  <thead>\n",
       "    <tr style=\"text-align: right;\">\n",
       "      <th></th>\n",
       "      <th>seat</th>\n",
       "      <th>trans</th>\n",
       "      <th>convert</th>\n",
       "      <th>price</th>\n",
       "    </tr>\n",
       "  </thead>\n",
       "  <tbody>\n",
       "    <tr>\n",
       "      <th>0</th>\n",
       "      <td>2</td>\n",
       "      <td>manual</td>\n",
       "      <td>no</td>\n",
       "      <td>35</td>\n",
       "    </tr>\n",
       "    <tr>\n",
       "      <th>1</th>\n",
       "      <td>2</td>\n",
       "      <td>auto</td>\n",
       "      <td>no</td>\n",
       "      <td>30</td>\n",
       "    </tr>\n",
       "  </tbody>\n",
       "</table>\n",
       "</div>"
      ],
      "text/plain": [
       "   seat   trans convert  price\n",
       "0     2  manual      no     35\n",
       "1     2    auto      no     30"
      ]
     },
     "execution_count": 19,
     "metadata": {},
     "output_type": "execute_result"
    }
   ],
   "source": [
    "new_market = pd.DataFrame({\n",
    "    \"seat\": [2, 2],\n",
    "    \"trans\": [\"manual\", \"auto\"],\n",
    "    \"convert\": [\"no\", \"no\"],\n",
    "    \"price\": [35, 30]\n",
    "})\n",
    "new_market"
   ]
  },
  {
   "cell_type": "markdown",
   "id": "9586e666-b58d-459b-a87d-e2c70f86e32a",
   "metadata": {},
   "source": [
    "Misalkan saja baris pertama adalah **produk yang akan kita luncurkan** dan baris kedua adalah **produk yang diluncurkan kompetitor**."
   ]
  },
  {
   "cell_type": "code",
   "execution_count": 20,
   "id": "ce635da2-108f-4f22-b1ef-41c307f4faa2",
   "metadata": {
    "execution": {
     "iopub.execute_input": "2023-07-27T07:32:30.395698Z",
     "iopub.status.busy": "2023-07-27T07:32:30.394933Z",
     "iopub.status.idle": "2023-07-27T07:32:30.592856Z",
     "shell.execute_reply": "2023-07-27T07:32:30.591921Z",
     "shell.execute_reply.started": "2023-07-27T07:32:30.395654Z"
    }
   },
   "outputs": [
    {
     "data": {
      "image/png": "[encoded data removed]",
      "text/plain": [
       "<Figure size 640x480 with 1 Axes>"
      ]
     },
     "metadata": {},
     "output_type": "display_data"
    }
   ],
   "source": [
    "shares = model.predict(new_market)[1]\n",
    "shares.index = [\"Our Sportscar\", \"Competitor 1\"]\n",
    "\n",
    "sns.barplot(x=shares, y=shares.index, orient=\"h\", order=[\"Competitor 1\", \"Our Sportscar\"])\n",
    "plt.show()"
   ]
  }
 ],
 "metadata": {
  "kernelspec": {
   "display_name": "Python 3 (ipykernel)",
   "language": "python",
   "name": "python3"
  },
  "language_info": {
   "codemirror_mode": {
    "name": "ipython",
    "version": 3
   },
   "file_extension": ".py",
   "mimetype": "text/x-python",
   "name": "python",
   "nbconvert_exporter": "python",
   "pygments_lexer": "ipython3",
   "version": "3.9.16"
  }
 },
 "nbformat": 4,
 "nbformat_minor": 5
}
