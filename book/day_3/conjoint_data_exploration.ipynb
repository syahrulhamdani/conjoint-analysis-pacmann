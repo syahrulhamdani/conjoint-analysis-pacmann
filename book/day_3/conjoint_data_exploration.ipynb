{
 "cells": [
  {
   "cell_type": "markdown",
   "id": "e49c7904-a06e-4b81-897d-3f2d99324969",
   "metadata": {},
   "source": [
    "# Eksplorasi Data Konjoin\n",
    "\n",
    "Selamat datang di hari ketiga pada seri webinar _Conjoint Analysis for Retail Business_.\n",
    "\n",
    "Sebagai ikhtisar, hari ini kita akan membahas beberapa topik seputar:\n",
    "* eksplorasi data konjoin dengan data industri retail mobil\n",
    "* eksplorasi data dan atribut"
   ]
  },
  {
   "cell_type": "markdown",
   "id": "a920a36d-9cd7-4f6f-a592-54d8c47c6d4e",
   "metadata": {},
   "source": [
    "## _Prerequisites_\n",
    "\n",
    "Pertama, kita memerlukan bantuan beberapa pustaka python berikut."
   ]
  },
  {
   "cell_type": "code",
   "execution_count": null,
   "id": "45ea2202-5d13-4735-b996-c8b99ef0b907",
   "metadata": {},
   "outputs": [],
   "source": [
    "from itertools import product\n",
    "\n",
    "import matplotlib.pyplot as plt\n",
    "import numpy as np\n",
    "import pandas as pd"
   ]
  },
  {
   "cell_type": "markdown",
   "id": "68b92b41-9d4b-44ea-8eb4-d604ce5b7161",
   "metadata": {},
   "source": [
    "## Eksplorasi Data\n",
    "\n",
    "Di sini kita akan menggunakan data konjoin dari sebuah perusahaan retail mobil.\n",
    "\n",
    "```{note}\n",
    "Silakan mengunduh data melalui tautan berikut: [🔗](https://drive.google.com/drive/folders/1rfwS32TI0GnChKLkJamBmzwDDvwbEa-I?usp=sharing)\n",
    "```\n",
    "\n",
    "Sebelum membangun model, mari kita coba eksplor datanya terlebih dahulu."
   ]
  },
  {
   "cell_type": "code",
   "execution_count": null,
   "id": "0306ba6c-012b-45d5-9adb-559f67519f54",
   "metadata": {},
   "outputs": [],
   "source": [
    "sportscar = pd.read_csv(\"../../data/sportscar_choice/sportscar_choice_long.csv\")\n",
    "sportscar"
   ]
  },
  {
   "cell_type": "markdown",
   "id": "29de2145-42a0-41b8-a13c-555d973ade70",
   "metadata": {},
   "source": [
    "```{dropdown} Bentuk data di atas adalah bentuk ...\n",
    "* memanjang\n",
    "* <s>melebar</s>\n",
    "```"
   ]
  },
  {
   "cell_type": "markdown",
   "id": "084eb68c-7789-482f-baed-df0715e6a78f",
   "metadata": {},
   "source": [
    "Berapa banyak responden?"
   ]
  },
  {
   "cell_type": "code",
   "execution_count": null,
   "id": "1452720e-5241-4f9c-9e79-8547d7096287",
   "metadata": {},
   "outputs": [],
   "source": [
    "sportscar.resp_id.nunique()"
   ]
  },
  {
   "cell_type": "markdown",
   "id": "49e5143b-feae-4b86-a500-9a8ad7a94b5a",
   "metadata": {},
   "source": [
    "Ada berapa set pertanyaan yang diajukan?"
   ]
  },
  {
   "cell_type": "code",
   "execution_count": null,
   "id": "02584a14-fd4a-499f-b605-6261f748a16b",
   "metadata": {},
   "outputs": [],
   "source": [
    "sportscar.ques.nunique()"
   ]
  },
  {
   "cell_type": "markdown",
   "id": "b3abd8db-32c5-4c9b-af9b-b19e223d0d57",
   "metadata": {},
   "source": [
    "Berapa banyak alternatif pada satu pertanyaan?"
   ]
  },
  {
   "cell_type": "code",
   "execution_count": null,
   "id": "2d48b24d-3bf0-4615-ab60-2e9fdb14e54e",
   "metadata": {},
   "outputs": [],
   "source": [
    "sportscar.alt.nunique()"
   ]
  },
  {
   "cell_type": "markdown",
   "id": "f78df3a4-4b14-4f65-a98c-9ea887bf107d",
   "metadata": {},
   "source": [
    "Berapa banyak pilihan yang dibuat dalam survei tersebut?"
   ]
  },
  {
   "cell_type": "code",
   "execution_count": null,
   "id": "7bcaa960-e143-4fbc-8a05-58cabac726a5",
   "metadata": {},
   "outputs": [],
   "source": [
    "sportscar.choice.value_counts()"
   ]
  },
  {
   "cell_type": "markdown",
   "id": "f96244df-f960-4742-a648-c5c2f02d4dde",
   "metadata": {},
   "source": [
    "### Level dan Atribut\n",
    "\n",
    "Dari data tersebut, ada berapa atribut dan level di masing-masing atribut yang digunakan?\n",
    "\n",
    "```{figure} ../../assets/sample-sportscar.png\n",
    ":name: sample-sportscar\n",
    "5 baris pertama data.\n",
    "```"
   ]
  },
  {
   "cell_type": "code",
   "execution_count": null,
   "id": "6f497d10-713a-4a28-b922-5d70aaa6ffd5",
   "metadata": {},
   "outputs": [],
   "source": [
    "sportscar.describe(include=\"all\")"
   ]
  },
  {
   "cell_type": "code",
   "execution_count": null,
   "id": "f617df23-9032-4f54-89d2-0aa5a53d8110",
   "metadata": {},
   "outputs": [],
   "source": [
    "sportscar.segment.value_counts()"
   ]
  },
  {
   "cell_type": "code",
   "execution_count": null,
   "id": "c9a3cf59-cf41-458c-bc97-41aada1d6de3",
   "metadata": {},
   "outputs": [],
   "source": [
    "sportscar.seat.value_counts()"
   ]
  },
  {
   "cell_type": "code",
   "execution_count": null,
   "id": "c74bb23d-80ea-407c-aefe-da8f27950d2b",
   "metadata": {},
   "outputs": [],
   "source": [
    "sportscar.trans.value_counts()"
   ]
  },
  {
   "cell_type": "code",
   "execution_count": null,
   "id": "ed95de9f-bcd4-4454-aea3-3f144c88a949",
   "metadata": {},
   "outputs": [],
   "source": [
    "sportscar.convert.value_counts()"
   ]
  },
  {
   "cell_type": "code",
   "execution_count": null,
   "id": "a67a152b-10c1-48bf-b961-0a91e6ea6c0c",
   "metadata": {},
   "outputs": [],
   "source": [
    "sportscar.price.value_counts()"
   ]
  },
  {
   "cell_type": "markdown",
   "id": "5861b7ff-34bd-466f-ae43-645b730dc3bd",
   "metadata": {},
   "source": [
    "Dari data, terdapat **5 atribut** dengan level masing-masing adalah:\n",
    "* `segment`: basic, fun, racer\n",
    "* `seat`: 2, 4, 5\n",
    "* `trans`: auto, manual\n",
    "* `convert`: yes, no\n",
    "* `price`: 35, 30, 40\n",
    "\n",
    "Selanjutnya, kita coba lihat apa yang responden pilih untuk setiap atribut-atribut tersebut. Untuk itu, kita bisa menghitung berapa banyak mobil dengan fitur tertentu dipilih, yaitu dengan `choice = 1`."
   ]
  },
  {
   "cell_type": "code",
   "execution_count": null,
   "id": "db97fae8-3795-4ba0-b0df-8ad7fce1b46e",
   "metadata": {},
   "outputs": [],
   "source": [
    "chosen_by_trans = pd.crosstab(sportscar.choice, sportscar.trans)\n",
    "chosen_by_segment = pd.crosstab(sportscar.choice, sportscar.segment)\n",
    "chosen_by_seat = pd.crosstab(sportscar.choice, sportscar.seat)\n",
    "chosen_by_convert = pd.crosstab(sportscar.choice, sportscar.convert)\n",
    "chosen_by_price = pd.crosstab(sportscar.choice, sportscar.price)"
   ]
  },
  {
   "cell_type": "code",
   "execution_count": null,
   "id": "fdd759da-9505-4760-b61b-88c88e5e8326",
   "metadata": {},
   "outputs": [],
   "source": [
    "chosen_by_trans"
   ]
  },
  {
   "cell_type": "code",
   "execution_count": null,
   "id": "744dce66-6904-4eb9-8702-12a9e038262f",
   "metadata": {},
   "outputs": [],
   "source": [
    "chosen_by_segment"
   ]
  },
  {
   "cell_type": "code",
   "execution_count": null,
   "id": "767d9028-ae71-4aae-b784-e20cae01d09d",
   "metadata": {},
   "outputs": [],
   "source": [
    "chosen_by_seat"
   ]
  },
  {
   "cell_type": "code",
   "execution_count": null,
   "id": "93ab1704-321c-407a-bd2f-8dfd31d299bd",
   "metadata": {},
   "outputs": [],
   "source": [
    "chosen_by_convert"
   ]
  },
  {
   "cell_type": "code",
   "execution_count": null,
   "id": "fb916351-65b3-413f-a5ed-96d4af576001",
   "metadata": {},
   "outputs": [],
   "source": [
    "chosen_by_price"
   ]
  },
  {
   "cell_type": "code",
   "execution_count": null,
   "id": "e88185f4-70e6-4442-af2f-6b51a3f93aca",
   "metadata": {},
   "outputs": [],
   "source": [
    "chosen_by_trans.loc[1].plot(kind=\"bar\")\n",
    "plt.show()"
   ]
  },
  {
   "cell_type": "code",
   "execution_count": null,
   "id": "aa15c66e-81f6-49e8-9697-6d1edf0303e8",
   "metadata": {},
   "outputs": [],
   "source": [
    "chosen_by_segment.loc[1].plot(kind=\"bar\")\n",
    "plt.show()"
   ]
  },
  {
   "cell_type": "code",
   "execution_count": null,
   "id": "70b248ec-40ee-4f17-8d6f-0b1b1f02e705",
   "metadata": {},
   "outputs": [],
   "source": [
    "chosen_by_seat.loc[1].plot(kind=\"bar\")\n",
    "plt.show()"
   ]
  },
  {
   "cell_type": "code",
   "execution_count": null,
   "id": "b3967790-fd2f-4fc0-884b-1af46ef60ae4",
   "metadata": {},
   "outputs": [],
   "source": [
    "chosen_by_convert.loc[1].plot(kind=\"bar\")\n",
    "plt.show()"
   ]
  },
  {
   "cell_type": "code",
   "execution_count": null,
   "id": "81b61394-aa26-4e01-afa2-76bf03a3783a",
   "metadata": {},
   "outputs": [],
   "source": [
    "chosen_by_price.loc[1].plot(kind=\"bar\")\n",
    "plt.show()"
   ]
  },
  {
   "cell_type": "markdown",
   "id": "f4814b2b-b379-4f88-ba8c-61b8d189a0d5",
   "metadata": {},
   "source": [
    "```{attention}\n",
    "Apa yang bisa kamu ambil dari visualisasi di atas?\n",
    "```"
   ]
  },
  {
   "cell_type": "markdown",
   "id": "88001dff-ad4d-4b6f-96e0-5aabef7fa8a1",
   "metadata": {},
   "source": [
    "### Profil\n",
    "\n",
    "Mari kita cek apakah setiap responden menerima set pertanyaan dengan alternatif yang sama atau tidak."
   ]
  },
  {
   "cell_type": "code",
   "execution_count": null,
   "id": "eefec65b-19d0-4889-b1d2-7250256b8e54",
   "metadata": {},
   "outputs": [],
   "source": [
    "sportscar[\n",
    "    sportscar.duplicated(\n",
    "        subset=[\"segment\", \"trans\", \"seat\", \"convert\", \"price\"],\n",
    "        keep=\"first\"\n",
    "    )\n",
    "].sort_values([\"resp_id\", \"ques\", \"alt\"])"
   ]
  },
  {
   "cell_type": "code",
   "execution_count": null,
   "id": "f7b99098-e366-4afa-bd38-b379f6272572",
   "metadata": {},
   "outputs": [],
   "source": [
    "sportscar[\n",
    "    (sportscar.segment == \"basic\") & (sportscar.seat == 2)\n",
    "    & (sportscar.trans == \"auto\") & (sportscar.convert == \"no\")\n",
    "    & (sportscar.price == 30)\n",
    "].sort_values(\"resp_id\")"
   ]
  },
  {
   "cell_type": "code",
   "execution_count": null,
   "id": "90eaf681-4b3d-4039-8203-bfd6ad073c70",
   "metadata": {},
   "outputs": [],
   "source": [
    "sportscar[\n",
    "    (sportscar.segment == \"basic\") & (sportscar.seat == 2)\n",
    "    & (sportscar.trans == \"auto\") & (sportscar.convert == \"no\")\n",
    "    & (sportscar.price == 30)\n",
    "].choice.sum()"
   ]
  },
  {
   "cell_type": "code",
   "execution_count": null,
   "id": "e046acd8-917c-49f2-9321-6b656fa53cbf",
   "metadata": {},
   "outputs": [],
   "source": [
    "sportscar[sportscar.resp_id.isin([188])]"
   ]
  },
  {
   "cell_type": "code",
   "execution_count": null,
   "id": "7fa4d014-fb2e-401f-a31a-d1a2f9a6a6a9",
   "metadata": {},
   "outputs": [],
   "source": [
    "sportscar[\n",
    "    (sportscar.segment == \"fun\") & (sportscar.seat == 2)\n",
    "    & (sportscar.trans == \"manual\") & (sportscar.convert == \"no\")\n",
    "    & (sportscar.price == 30)\n",
    "].sort_values(\"resp_id\")"
   ]
  },
  {
   "cell_type": "code",
   "execution_count": null,
   "id": "0e0cca5e-f733-42df-a312-457445afde9d",
   "metadata": {},
   "outputs": [],
   "source": [
    "sportscar[\n",
    "    (sportscar.segment == \"fun\") & (sportscar.seat == 2)\n",
    "    & (sportscar.trans == \"manual\") & (sportscar.convert == \"no\")\n",
    "    & (sportscar.price == 30)\n",
    "].shape"
   ]
  },
  {
   "cell_type": "code",
   "execution_count": null,
   "id": "738cc7ae-b934-4e6f-81ac-ba604eab4d1a",
   "metadata": {},
   "outputs": [],
   "source": [
    "sportscar[\n",
    "    (sportscar.segment == \"fun\") & (sportscar.seat == 2)\n",
    "    & (sportscar.trans == \"manual\") & (sportscar.convert == \"no\")\n",
    "    & (sportscar.price == 30)\n",
    "].choice.sum()"
   ]
  },
  {
   "cell_type": "code",
   "execution_count": null,
   "id": "75dc7eca-6e6a-4b44-8506-a02606f1208f",
   "metadata": {},
   "outputs": [],
   "source": [
    "sportscar[\n",
    "    (sportscar.segment == \"basic\") & (sportscar.seat == 5)\n",
    "    & (sportscar.trans == \"auto\") & (sportscar.convert == \"yes\")\n",
    "    & (sportscar.price == 30)\n",
    "].sort_values(\"resp_id\")"
   ]
  },
  {
   "cell_type": "code",
   "execution_count": null,
   "id": "33179616-1c24-4fd0-adfa-631ceb9c62ef",
   "metadata": {},
   "outputs": [],
   "source": [
    "sportscar[\n",
    "    (sportscar.segment == \"basic\") & (sportscar.seat == 5)\n",
    "    & (sportscar.trans == \"auto\") & (sportscar.convert == \"yes\")\n",
    "    & (sportscar.price == 30)\n",
    "].choice.sum()"
   ]
  },
  {
   "cell_type": "code",
   "execution_count": null,
   "id": "86ddc84f-4641-4d83-aa38-e4f6946c3960",
   "metadata": {},
   "outputs": [],
   "source": [
    "sportscar[\n",
    "    (sportscar.resp_id == 4) & (sportscar.ques == 10)\n",
    "]"
   ]
  },
  {
   "cell_type": "code",
   "execution_count": null,
   "id": "7de43481-b927-4c03-a601-959f1d56dd54",
   "metadata": {},
   "outputs": [],
   "source": [
    "sportscar[\n",
    "    (sportscar.resp_id == 197) & (sportscar.ques == 1)\n",
    "]"
   ]
  },
  {
   "cell_type": "markdown",
   "id": "bd36294c-3788-4c86-9eca-ed07f14d7360",
   "metadata": {},
   "source": [
    "```{attention}\n",
    "Apa yang bisa kamu dapatkan dari eksplorasi profil di atas?\n",
    "```"
   ]
  },
  {
   "cell_type": "markdown",
   "id": "f6f74812-50d9-4a8a-ac11-2bc41d4566bd",
   "metadata": {},
   "source": [
    "### Memeriksa Pilihan Responden\n",
    "\n",
    "Setelah kita mengeksplor bagaimana pilihan responden berdasarkan masing-masing atribut, mari kita periksa pilihan beberapa responden."
   ]
  },
  {
   "cell_type": "code",
   "execution_count": null,
   "id": "8e4b0dc8-eced-42fa-b54a-d3b9c23c5d0e",
   "metadata": {},
   "outputs": [],
   "source": [
    "sportscar[sportscar.resp_id == 50]"
   ]
  },
  {
   "cell_type": "code",
   "execution_count": null,
   "id": "65d31efd-dba3-4965-ba01-a13ef62a818f",
   "metadata": {},
   "outputs": [],
   "source": [
    "resp_50 = sportscar[sportscar.resp_id == 50]\n",
    "chosen_by_trans = pd.crosstab(resp_50.choice, resp_50.trans)\n",
    "chosen_by_segment = pd.crosstab(resp_50.choice, resp_50.segment)\n",
    "chosen_by_seat = pd.crosstab(resp_50.choice, resp_50.seat)\n",
    "chosen_by_convert = pd.crosstab(resp_50.choice, resp_50.convert)\n",
    "chosen_by_price = pd.crosstab(resp_50.choice, resp_50.price)"
   ]
  },
  {
   "cell_type": "code",
   "execution_count": null,
   "id": "81e6e66a-b068-46d9-b837-ffda9e9ce069",
   "metadata": {},
   "outputs": [],
   "source": [
    "chosen_by_trans.loc[1].plot(kind=\"bar\")\n",
    "plt.show()\n",
    "chosen_by_segment.loc[1].plot(kind=\"bar\")\n",
    "plt.show()\n",
    "chosen_by_seat.loc[1].plot(kind=\"bar\")\n",
    "plt.show()\n",
    "chosen_by_convert.loc[1].plot(kind=\"bar\")\n",
    "plt.show()\n",
    "chosen_by_price.loc[1].plot(kind=\"bar\")\n",
    "plt.show()"
   ]
  },
  {
   "cell_type": "code",
   "execution_count": null,
   "id": "9cc250a7-f3dd-4441-a1fa-5e586908cd8d",
   "metadata": {},
   "outputs": [],
   "source": [
    "resp_50[resp_50.price == 40]"
   ]
  },
  {
   "cell_type": "markdown",
   "id": "71087363-fc78-4098-8049-479f836f8bc2",
   "metadata": {},
   "source": [
    "Mari kita cek ada berapa pilihan yang dibuat oleh responden 50."
   ]
  },
  {
   "cell_type": "code",
   "execution_count": null,
   "id": "76d609e5-1aad-45a4-8ba2-2ecf09a7c3a7",
   "metadata": {},
   "outputs": [],
   "source": [
    "sportscar[sportscar.resp_id == 50].choice.sum()"
   ]
  },
  {
   "cell_type": "code",
   "execution_count": null,
   "id": "03b3964c-d24b-4d98-aa8c-bd7c60910fba",
   "metadata": {},
   "outputs": [],
   "source": [
    "sportscar.groupby(\"resp_id\").agg({\"choice\": sum}).value_counts()"
   ]
  },
  {
   "cell_type": "markdown",
   "id": "1a3cd57c-3f1f-491d-9b17-554049fd3859",
   "metadata": {},
   "source": [
    "## Data Konjoin dari Qualtrics\n",
    "\n",
    "Kita akan coba eksplor data hasil survei konjoin yang disediakan sebagai _template_ melalui tools **Qualtrics**.\n",
    "\n",
    "```{note}\n",
    "Silakan mengunduh data melalui tautan berikut:\n",
    "[🔗](https://drive.google.com/drive/folders/1a_coQ8Ek1jCjghmtPw9g4jBUcaCzkJoo?usp=sharing)\n",
    "```"
   ]
  },
  {
   "cell_type": "code",
   "execution_count": null,
   "id": "93f948c1-59f2-46c1-8c56-29201249791c",
   "metadata": {},
   "outputs": [],
   "source": [
    "qualtrics = pd.read_csv(\"../../data/Sample Product Optimization (Conjoint) - Numeric.csv\", header=0, skiprows=[1, 2])\n",
    "qualtrics"
   ]
  },
  {
   "cell_type": "code",
   "execution_count": null,
   "id": "651c5e3b-4ae5-499f-b083-e438ab681b5e",
   "metadata": {
    "scrolled": true
   },
   "outputs": [],
   "source": [
    "qualtrics.info()"
   ]
  },
  {
   "cell_type": "code",
   "execution_count": null,
   "id": "c05e8422-7461-45b6-aea5-21f313531f5a",
   "metadata": {},
   "outputs": [],
   "source": [
    "qualtrics.iloc[:, [0, 1, 2, 3, 4, 5, 6, 7, 8, 21, 22, 23, 24, 25, 26, 27]]"
   ]
  },
  {
   "cell_type": "code",
   "execution_count": null,
   "id": "d3bb1e5c-73a3-4752-99ae-f40d459335e6",
   "metadata": {},
   "outputs": [],
   "source": [
    "questions = [q for ques in range(1, 8) for q in [ques] * 2]\n",
    "alternatives = [1, 2] * 7\n",
    "profiles = {\n",
    "    \"battery_life\": [9, 11, 11, 9, 7, 7, 9, 11, 7, 7, 13, 13, 7, 13],\n",
    "    \"camera\": [\"great\", \"best\", \"good\", \"good\", \"great\", \"great\", \"best\", \"great\", \"great\", \"good\", \"good\", \"best\", \"best\", \"great\"],\n",
    "    \"front_camera\": [\"notch\", \"cut-out\", \"cut-out\", \"under display\", \"notch\", \"notch\", \"under display\", \"under display\", \"cut-out\", \"cut-out\", \"notch\", \"under display\", \"cut-out\", \"cut-out\"],\n",
    "    \"biometric\": [\"face\", \"face+fingerprint\", \"face\", \"face+fingerprint\", \"fingerprint\", \"face+fingerprint\", \"face\", \"face\", \"face\", \"fingerprint\", \"face+fingerprint\", \"face\", \"fingerprint\", \"face\"],\n",
    "    \"price\": [900, 700, 500, 900, 700, 900, 1100, 1100, 1100, 500, 1300, 1300, 1100, 1300]\n",
    "}\n",
    "surveys = pd.DataFrame({\"ques\": questions, \"alt\": alternatives, **profiles})\n",
    "surveys"
   ]
  }
 ],
 "metadata": {
  "kernelspec": {
   "display_name": "Python 3 (ipykernel)",
   "language": "python",
   "name": "python3"
  },
  "language_info": {
   "codemirror_mode": {
    "name": "ipython",
    "version": 3
   },
   "file_extension": ".py",
   "mimetype": "text/x-python",
   "name": "python",
   "nbconvert_exporter": "python",
   "pygments_lexer": "ipython3",
   "version": "3.9.16"
  }
 },
 "nbformat": 4,
 "nbformat_minor": 5
}
